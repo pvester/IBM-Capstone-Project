{
 "cells": [
  {
   "cell_type": "markdown",
   "metadata": {},
   "source": [
    "# A Quantitative Estimation of Reviews from Medical Test Subjects\n",
    "\n",
    "## Introduction\n",
    "Testing of new medicine from medical companies is a complex and long process, as you have to check for both short-term and long-term side effects. On top of that human test subjects are needed in the final testing phase of the medicine, making the process both very long and expensive if sufficient statistics has to be obtained. Furthermore the reviews from human test subjects are often not quantitative but qualitative with text descriptions rather than ratings. In this project I try to make an algorithm to translate the qualitative descriptions from the human test subjects to quantitative ratings in order to better and faster conclude on the quality of new medicine to be tested. For this purpose I use already labelled data from drugs.com extracted by by Surya Kallumadi (Kansas State University) and Felix Grässer (Technical University of Dresden). The dataset has 3,100 reviews and labels (Review score from 1-10). I will try to build a predictor of the ratings based on those text reviews. If successful the project can be presented for institutional organisations that 1) determines the quality of new medicine and 2) carries out the testing on human subjects.\n",
    "\n",
    "## ETL Script\n",
    "Files were already divided into a trainig and a test dataset, and they were renamed to training_data.tsv (75 % of the data) and test_data.tsv (25 %) for convenience."
   ]
  },
  {
   "cell_type": "code",
   "execution_count": 1,
   "metadata": {},
   "outputs": [
    {
     "data": {
      "text/html": [
       "<div>\n",
       "<style scoped>\n",
       "    .dataframe tbody tr th:only-of-type {\n",
       "        vertical-align: middle;\n",
       "    }\n",
       "\n",
       "    .dataframe tbody tr th {\n",
       "        vertical-align: top;\n",
       "    }\n",
       "\n",
       "    .dataframe thead th {\n",
       "        text-align: right;\n",
       "    }\n",
       "</style>\n",
       "<table border=\"1\" class=\"dataframe\">\n",
       "  <thead>\n",
       "    <tr style=\"text-align: right;\">\n",
       "      <th></th>\n",
       "      <th>urlDrugName</th>\n",
       "      <th>rating</th>\n",
       "      <th>effectiveness</th>\n",
       "      <th>sideEffects</th>\n",
       "      <th>condition</th>\n",
       "      <th>benefitsReview</th>\n",
       "      <th>sideEffectsReview</th>\n",
       "      <th>commentsReview</th>\n",
       "    </tr>\n",
       "  </thead>\n",
       "  <tbody>\n",
       "    <tr>\n",
       "      <th>2202</th>\n",
       "      <td>enalapril</td>\n",
       "      <td>4</td>\n",
       "      <td>Highly Effective</td>\n",
       "      <td>Mild Side Effects</td>\n",
       "      <td>management of congestive heart failure</td>\n",
       "      <td>slowed the progression of left ventricular dysfunction into overt heart failure \\r\\r\\nalone or with other agents in the managment of hypertension \\r\\r\\nmangagement of congestive heart failur</td>\n",
       "      <td>cough, hypotension , proteinuria, impotence , renal failure , angina pectoris , tachycardia , eosinophilic pneumonitis, tastes disturbances , anusease anorecia , weakness fatigue insominca weakness</td>\n",
       "      <td>monitor blood pressure , weight and asses for resolution of fluid</td>\n",
       "    </tr>\n",
       "    <tr>\n",
       "      <th>3117</th>\n",
       "      <td>ortho-tri-cyclen</td>\n",
       "      <td>1</td>\n",
       "      <td>Highly Effective</td>\n",
       "      <td>Severe Side Effects</td>\n",
       "      <td>birth prevention</td>\n",
       "      <td>Although this type of birth control has more cons than pros, it did help with my cramps. It's also effective with the prevention of pregnancy. (Along with use of condoms as well)</td>\n",
       "      <td>Heavy Cycle, Cramps, Hot Flashes, Fatigue, Long Lasting Cycles. It's only been 5 1/2 months, but i'm concidering changing to a different bc. This is my first time using any kind of bc, unfortunately due to the constant hassel, i'm not happy with the results.</td>\n",
       "      <td>I Hate This Birth Control, I Would Not Suggest This To Anyone.</td>\n",
       "    </tr>\n",
       "    <tr>\n",
       "      <th>1146</th>\n",
       "      <td>ponstel</td>\n",
       "      <td>10</td>\n",
       "      <td>Highly Effective</td>\n",
       "      <td>No Side Effects</td>\n",
       "      <td>menstrual cramps</td>\n",
       "      <td>I was used to having cramps so badly that they would leave me balled up in bed for at least 2 days.  The Ponstel doesn't take the pain away completely, but takes the edge off so much that normal activities were possible. Definitely a miracle medication!!</td>\n",
       "      <td>Heavier bleeding and clotting than normal.</td>\n",
       "      <td>I took 2 pills at the onset of my menstrual cramps and then every 8-12 hours took 1 pill as needed for about 3-4 days until cramps were over. If cramps are bad, make sure to take every 8 hours on the dot because the medication stops working suddenly and unfortunately takes about an hour to an hour and a half to kick back in.. if cramps are only moderate, taking every 12 hours is okay.</td>\n",
       "    </tr>\n",
       "  </tbody>\n",
       "</table>\n",
       "</div>"
      ],
      "text/plain": [
       "           urlDrugName  rating     effectiveness          sideEffects  \\\n",
       "2202  enalapril         4       Highly Effective  Mild Side Effects     \n",
       "3117  ortho-tri-cyclen  1       Highly Effective  Severe Side Effects   \n",
       "1146  ponstel           10      Highly Effective  No Side Effects       \n",
       "\n",
       "                                   condition  \\\n",
       "2202  management of congestive heart failure   \n",
       "3117  birth prevention                         \n",
       "1146  menstrual cramps                         \n",
       "\n",
       "                                                                                                                                                                                                                                                      benefitsReview  \\\n",
       "2202  slowed the progression of left ventricular dysfunction into overt heart failure \\r\\r\\nalone or with other agents in the managment of hypertension \\r\\r\\nmangagement of congestive heart failur                                                                   \n",
       "3117  Although this type of birth control has more cons than pros, it did help with my cramps. It's also effective with the prevention of pregnancy. (Along with use of condoms as well)                                                                               \n",
       "1146  I was used to having cramps so badly that they would leave me balled up in bed for at least 2 days.  The Ponstel doesn't take the pain away completely, but takes the edge off so much that normal activities were possible. Definitely a miracle medication!!   \n",
       "\n",
       "                                                                                                                                                                                                                                                       sideEffectsReview  \\\n",
       "2202  cough, hypotension , proteinuria, impotence , renal failure , angina pectoris , tachycardia , eosinophilic pneumonitis, tastes disturbances , anusease anorecia , weakness fatigue insominca weakness                                                                \n",
       "3117  Heavy Cycle, Cramps, Hot Flashes, Fatigue, Long Lasting Cycles. It's only been 5 1/2 months, but i'm concidering changing to a different bc. This is my first time using any kind of bc, unfortunately due to the constant hassel, i'm not happy with the results.   \n",
       "1146  Heavier bleeding and clotting than normal.                                                                                                                                                                                                                           \n",
       "\n",
       "                                                                                                                                                                                                                                                                                                                                                                                           commentsReview  \n",
       "2202  monitor blood pressure , weight and asses for resolution of fluid                                                                                                                                                                                                                                                                                                                                    \n",
       "3117  I Hate This Birth Control, I Would Not Suggest This To Anyone.                                                                                                                                                                                                                                                                                                                                       \n",
       "1146  I took 2 pills at the onset of my menstrual cramps and then every 8-12 hours took 1 pill as needed for about 3-4 days until cramps were over. If cramps are bad, make sure to take every 8 hours on the dot because the medication stops working suddenly and unfortunately takes about an hour to an hour and a half to kick back in.. if cramps are only moderate, taking every 12 hours is okay.  "
      ]
     },
     "execution_count": 1,
     "metadata": {},
     "output_type": "execute_result"
    }
   ],
   "source": [
    "# import important libraries\n",
    "import os\n",
    "import pandas as pd\n",
    "import numpy as np\n",
    "\n",
    "# set a limit of printing an array\n",
    "np.set_printoptions(threshold=10)\n",
    "\n",
    "# read training and test data. It turned out that .tsv files can be read as csv-files by pandas by specifying the separation by '\\t'\n",
    "training_data_path = '/Users/petervester/Downloads/drugLib_raw/training_data.tsv'\n",
    "test_data_path = '/Users/petervester/Downloads/drugLib_raw/test_data.tsv'\n",
    "training_df = pd.read_csv(training_data_path, sep='\\t', index_col=0)\n",
    "test_df = pd.read_csv(test_data_path, sep='\\t', index_col=0)\n",
    "\n",
    "pd.set_option('display.max_colwidth', -1)\n",
    "training_df.head(3)"
   ]
  },
  {
   "cell_type": "markdown",
   "metadata": {},
   "source": [
    "First of all, we take a look at the number of rows, the datatypes and other information of the training dataset."
   ]
  },
  {
   "cell_type": "code",
   "execution_count": 2,
   "metadata": {},
   "outputs": [
    {
     "name": "stdout",
     "output_type": "stream",
     "text": [
      "<class 'pandas.core.frame.DataFrame'>\n",
      "Int64Index: 3107 entries, 2202 to 2748\n",
      "Data columns (total 8 columns):\n",
      "urlDrugName          3107 non-null object\n",
      "rating               3107 non-null int64\n",
      "effectiveness        3107 non-null object\n",
      "sideEffects          3107 non-null object\n",
      "condition            3106 non-null object\n",
      "benefitsReview       3107 non-null object\n",
      "sideEffectsReview    3105 non-null object\n",
      "commentsReview       3099 non-null object\n",
      "dtypes: int64(1), object(7)\n",
      "memory usage: 218.5+ KB\n"
     ]
    }
   ],
   "source": [
    "training_df.info()"
   ]
  },
  {
   "cell_type": "code",
   "execution_count": 3,
   "metadata": {},
   "outputs": [
    {
     "data": {
      "text/html": [
       "<div>\n",
       "<style scoped>\n",
       "    .dataframe tbody tr th:only-of-type {\n",
       "        vertical-align: middle;\n",
       "    }\n",
       "\n",
       "    .dataframe tbody tr th {\n",
       "        vertical-align: top;\n",
       "    }\n",
       "\n",
       "    .dataframe thead th {\n",
       "        text-align: right;\n",
       "    }\n",
       "</style>\n",
       "<table border=\"1\" class=\"dataframe\">\n",
       "  <thead>\n",
       "    <tr style=\"text-align: right;\">\n",
       "      <th>variable</th>\n",
       "      <th>benefitsReview</th>\n",
       "      <th>commentsReview</th>\n",
       "      <th>condition</th>\n",
       "      <th>effectiveness</th>\n",
       "      <th>rating</th>\n",
       "      <th>sideEffects</th>\n",
       "      <th>sideEffectsReview</th>\n",
       "      <th>urlDrugName</th>\n",
       "    </tr>\n",
       "    <tr>\n",
       "      <th>value</th>\n",
       "      <th></th>\n",
       "      <th></th>\n",
       "      <th></th>\n",
       "      <th></th>\n",
       "      <th></th>\n",
       "      <th></th>\n",
       "      <th></th>\n",
       "      <th></th>\n",
       "    </tr>\n",
       "  </thead>\n",
       "  <tbody>\n",
       "    <tr>\n",
       "      <th>False</th>\n",
       "      <td>0</td>\n",
       "      <td>8</td>\n",
       "      <td>1</td>\n",
       "      <td>0</td>\n",
       "      <td>0</td>\n",
       "      <td>0</td>\n",
       "      <td>2</td>\n",
       "      <td>0</td>\n",
       "    </tr>\n",
       "    <tr>\n",
       "      <th>True</th>\n",
       "      <td>3107</td>\n",
       "      <td>3099</td>\n",
       "      <td>3106</td>\n",
       "      <td>3107</td>\n",
       "      <td>3107</td>\n",
       "      <td>3107</td>\n",
       "      <td>3105</td>\n",
       "      <td>3107</td>\n",
       "    </tr>\n",
       "  </tbody>\n",
       "</table>\n",
       "</div>"
      ],
      "text/plain": [
       "variable  benefitsReview  commentsReview  condition  effectiveness  rating  \\\n",
       "value                                                                        \n",
       "False     0               8               1          0              0        \n",
       "True      3107            3099            3106       3107           3107     \n",
       "\n",
       "variable  sideEffects  sideEffectsReview  urlDrugName  \n",
       "value                                                  \n",
       "False     0            2                  0            \n",
       "True      3107         3105               3107         "
      ]
     },
     "execution_count": 3,
     "metadata": {},
     "output_type": "execute_result"
    }
   ],
   "source": [
    "melted = pd.melt(training_df)\n",
    "pd.crosstab(index=[pd.notnull(melted['value'])], columns=[melted['variable']])"
   ]
  },
  {
   "cell_type": "markdown",
   "metadata": {},
   "source": [
    "From the information above, we can see that the numbers of rows of are not equal for every column. This is because some columns contain NaN values. The next step is to remove NaN values by in-built function sin Pandas. Well, I might not might not strightly have to drop the rows, but it's very little data. Let's drop it for now"
   ]
  },
  {
   "cell_type": "code",
   "execution_count": 4,
   "metadata": {},
   "outputs": [
    {
     "name": "stdout",
     "output_type": "stream",
     "text": [
      "<class 'pandas.core.frame.DataFrame'>\n",
      "Int64Index: 3096 entries, 2202 to 2748\n",
      "Data columns (total 8 columns):\n",
      "urlDrugName          3096 non-null object\n",
      "rating               3096 non-null int64\n",
      "effectiveness        3096 non-null object\n",
      "sideEffects          3096 non-null object\n",
      "condition            3096 non-null object\n",
      "benefitsReview       3096 non-null object\n",
      "sideEffectsReview    3096 non-null object\n",
      "commentsReview       3096 non-null object\n",
      "dtypes: int64(1), object(7)\n",
      "memory usage: 217.7+ KB\n"
     ]
    }
   ],
   "source": [
    "# for the training data\n",
    "training_df.dropna(inplace=True)\n",
    "training_df.info()\n",
    "\n",
    "# also for the test data\n",
    "test_df.dropna(inplace=True)"
   ]
  },
  {
   "cell_type": "markdown",
   "metadata": {},
   "source": [
    "It seemed to work very well, now all the columns have the same number of rows and we still have 3,096 data rows."
   ]
  },
  {
   "cell_type": "markdown",
   "metadata": {},
   "source": [
    "Some simple statistics about the data, using the built-in function in Pandas dataframes."
   ]
  },
  {
   "cell_type": "code",
   "execution_count": 5,
   "metadata": {},
   "outputs": [
    {
     "data": {
      "text/html": [
       "<div>\n",
       "<style scoped>\n",
       "    .dataframe tbody tr th:only-of-type {\n",
       "        vertical-align: middle;\n",
       "    }\n",
       "\n",
       "    .dataframe tbody tr th {\n",
       "        vertical-align: top;\n",
       "    }\n",
       "\n",
       "    .dataframe thead th {\n",
       "        text-align: right;\n",
       "    }\n",
       "</style>\n",
       "<table border=\"1\" class=\"dataframe\">\n",
       "  <thead>\n",
       "    <tr style=\"text-align: right;\">\n",
       "      <th></th>\n",
       "      <th>urlDrugName</th>\n",
       "      <th>rating</th>\n",
       "      <th>effectiveness</th>\n",
       "      <th>sideEffects</th>\n",
       "      <th>condition</th>\n",
       "      <th>benefitsReview</th>\n",
       "      <th>sideEffectsReview</th>\n",
       "      <th>commentsReview</th>\n",
       "    </tr>\n",
       "  </thead>\n",
       "  <tbody>\n",
       "    <tr>\n",
       "      <th>count</th>\n",
       "      <td>3096</td>\n",
       "      <td>3096.000000</td>\n",
       "      <td>3096</td>\n",
       "      <td>3096</td>\n",
       "      <td>3096</td>\n",
       "      <td>3096</td>\n",
       "      <td>3096</td>\n",
       "      <td>3096</td>\n",
       "    </tr>\n",
       "    <tr>\n",
       "      <th>unique</th>\n",
       "      <td>501</td>\n",
       "      <td>NaN</td>\n",
       "      <td>5</td>\n",
       "      <td>5</td>\n",
       "      <td>1422</td>\n",
       "      <td>3021</td>\n",
       "      <td>2806</td>\n",
       "      <td>3044</td>\n",
       "    </tr>\n",
       "    <tr>\n",
       "      <th>top</th>\n",
       "      <td>lexapro</td>\n",
       "      <td>NaN</td>\n",
       "      <td>Highly Effective</td>\n",
       "      <td>Mild Side Effects</td>\n",
       "      <td>depression</td>\n",
       "      <td>none</td>\n",
       "      <td>none</td>\n",
       "      <td>none</td>\n",
       "    </tr>\n",
       "    <tr>\n",
       "      <th>freq</th>\n",
       "      <td>63</td>\n",
       "      <td>NaN</td>\n",
       "      <td>1327</td>\n",
       "      <td>1017</td>\n",
       "      <td>236</td>\n",
       "      <td>20</td>\n",
       "      <td>111</td>\n",
       "      <td>6</td>\n",
       "    </tr>\n",
       "    <tr>\n",
       "      <th>mean</th>\n",
       "      <td>NaN</td>\n",
       "      <td>7.010659</td>\n",
       "      <td>NaN</td>\n",
       "      <td>NaN</td>\n",
       "      <td>NaN</td>\n",
       "      <td>NaN</td>\n",
       "      <td>NaN</td>\n",
       "      <td>NaN</td>\n",
       "    </tr>\n",
       "    <tr>\n",
       "      <th>std</th>\n",
       "      <td>NaN</td>\n",
       "      <td>2.936630</td>\n",
       "      <td>NaN</td>\n",
       "      <td>NaN</td>\n",
       "      <td>NaN</td>\n",
       "      <td>NaN</td>\n",
       "      <td>NaN</td>\n",
       "      <td>NaN</td>\n",
       "    </tr>\n",
       "    <tr>\n",
       "      <th>min</th>\n",
       "      <td>NaN</td>\n",
       "      <td>1.000000</td>\n",
       "      <td>NaN</td>\n",
       "      <td>NaN</td>\n",
       "      <td>NaN</td>\n",
       "      <td>NaN</td>\n",
       "      <td>NaN</td>\n",
       "      <td>NaN</td>\n",
       "    </tr>\n",
       "    <tr>\n",
       "      <th>25%</th>\n",
       "      <td>NaN</td>\n",
       "      <td>5.000000</td>\n",
       "      <td>NaN</td>\n",
       "      <td>NaN</td>\n",
       "      <td>NaN</td>\n",
       "      <td>NaN</td>\n",
       "      <td>NaN</td>\n",
       "      <td>NaN</td>\n",
       "    </tr>\n",
       "    <tr>\n",
       "      <th>50%</th>\n",
       "      <td>NaN</td>\n",
       "      <td>8.000000</td>\n",
       "      <td>NaN</td>\n",
       "      <td>NaN</td>\n",
       "      <td>NaN</td>\n",
       "      <td>NaN</td>\n",
       "      <td>NaN</td>\n",
       "      <td>NaN</td>\n",
       "    </tr>\n",
       "    <tr>\n",
       "      <th>75%</th>\n",
       "      <td>NaN</td>\n",
       "      <td>9.000000</td>\n",
       "      <td>NaN</td>\n",
       "      <td>NaN</td>\n",
       "      <td>NaN</td>\n",
       "      <td>NaN</td>\n",
       "      <td>NaN</td>\n",
       "      <td>NaN</td>\n",
       "    </tr>\n",
       "    <tr>\n",
       "      <th>max</th>\n",
       "      <td>NaN</td>\n",
       "      <td>10.000000</td>\n",
       "      <td>NaN</td>\n",
       "      <td>NaN</td>\n",
       "      <td>NaN</td>\n",
       "      <td>NaN</td>\n",
       "      <td>NaN</td>\n",
       "      <td>NaN</td>\n",
       "    </tr>\n",
       "  </tbody>\n",
       "</table>\n",
       "</div>"
      ],
      "text/plain": [
       "       urlDrugName       rating     effectiveness        sideEffects  \\\n",
       "count   3096        3096.000000  3096              3096                \n",
       "unique  501        NaN           5                 5                   \n",
       "top     lexapro    NaN           Highly Effective  Mild Side Effects   \n",
       "freq    63         NaN           1327              1017                \n",
       "mean    NaN         7.010659     NaN               NaN                 \n",
       "std     NaN         2.936630     NaN               NaN                 \n",
       "min     NaN         1.000000     NaN               NaN                 \n",
       "25%     NaN         5.000000     NaN               NaN                 \n",
       "50%     NaN         8.000000     NaN               NaN                 \n",
       "75%     NaN         9.000000     NaN               NaN                 \n",
       "max     NaN         10.000000    NaN               NaN                 \n",
       "\n",
       "         condition benefitsReview sideEffectsReview commentsReview  \n",
       "count   3096        3096           3096              3096           \n",
       "unique  1422        3021           2806              3044           \n",
       "top     depression  none           none              none           \n",
       "freq    236         20             111               6              \n",
       "mean    NaN         NaN            NaN               NaN            \n",
       "std     NaN         NaN            NaN               NaN            \n",
       "min     NaN         NaN            NaN               NaN            \n",
       "25%     NaN         NaN            NaN               NaN            \n",
       "50%     NaN         NaN            NaN               NaN            \n",
       "75%     NaN         NaN            NaN               NaN            \n",
       "max     NaN         NaN            NaN               NaN            "
      ]
     },
     "execution_count": 5,
     "metadata": {},
     "output_type": "execute_result"
    }
   ],
   "source": [
    "training_df.describe(include='all')"
   ]
  },
  {
   "cell_type": "markdown",
   "metadata": {},
   "source": [
    "Now, to increase our understanding of the dataset. Firstly, we take a look at the rating score and find its min and max value. Then, we make a survey of the 'effectiveness', 'sideEffects', and 'condition' columns about their values and data types. According to the sample data above, it seems like both 'effectiveness' and 'sideEffects' columns are categorical. What we would like to know is whether condition is also categorical."
   ]
  },
  {
   "cell_type": "code",
   "execution_count": 6,
   "metadata": {},
   "outputs": [
    {
     "name": "stdout",
     "output_type": "stream",
     "text": [
      "rating min: 1, rating max: 10\n",
      "unique values in 'rating':\n",
      "[ 4  1 10  3  2  9  7  8  6  5]\n",
      "unique values in 'urlDrugName':\n",
      "['enalapril' 'ortho-tri-cyclen' 'ponstel' ... 'glucophage-xr'\n",
      " 'risperdal-consta' 'trileptal']\n",
      "unique values in 'effectiveness':\n",
      "['Highly Effective' 'Marginally Effective' 'Ineffective'\n",
      " 'Considerably Effective' 'Moderately Effective']\n",
      "unique values in 'sideEffects':\n",
      "['Mild Side Effects' 'Severe Side Effects' 'No Side Effects'\n",
      " 'Extremely Severe Side Effects' 'Moderate Side Effects']\n",
      "unique values in 'condition':\n",
      "['management of congestive heart failure' 'birth prevention'\n",
      " 'menstrual cramps' ... 'hives, itching, swelling due to allergies'\n",
      " 'muscle relaxant - spinal disorder' 'total hysterctomy']\n"
     ]
    }
   ],
   "source": [
    "print('rating min: {0}, rating max: {1}'.format(training_df['rating'].min(), training_df['rating'].max()))\n",
    "\n",
    "print('unique values in \\'rating\\':')\n",
    "print(training_df['rating'].unique())\n",
    "\n",
    "print('unique values in \\'urlDrugName\\':')\n",
    "print(training_df['urlDrugName'].unique())\n",
    "\n",
    "print('unique values in \\'effectiveness\\':')\n",
    "print(training_df['effectiveness'].unique())\n",
    "\n",
    "print('unique values in \\'sideEffects\\':')\n",
    "print(training_df['sideEffects'].unique())\n",
    "\n",
    "print('unique values in \\'condition\\':')\n",
    "print(training_df['condition'].unique())"
   ]
  },
  {
   "cell_type": "markdown",
   "metadata": {},
   "source": [
    "The values of 'rating' contain only 1-10 with no NaN values. So, we do not have to worry about NaN values in this column.\n",
    "\n",
    "We can observe that the values in condition could be just descriptive text from patients instead of categorical data. To clarify this, we count the number of unique values and compare it with the number of rows of the dataset. If the 'condition' column has the same number of unique values as the total rows, then it is considered text description."
   ]
  },
  {
   "cell_type": "code",
   "execution_count": 7,
   "metadata": {},
   "outputs": [
    {
     "name": "stdout",
     "output_type": "stream",
     "text": [
      "row count: 3096\n",
      "number of unique values in 'urlDrugName': 501\n",
      "number of unique values in 'condition': 1422\n"
     ]
    }
   ],
   "source": [
    "print('row count: {}'.format(training_df.shape[0]))\n",
    "print('number of unique values in \\'urlDrugName\\': {}'.format(len(training_df['urlDrugName'].unique())))\n",
    "print('number of unique values in \\'condition\\': {}'.format(len(training_df['condition'].unique())))"
   ]
  },
  {
   "cell_type": "markdown",
   "metadata": {},
   "source": [
    "It seems like the values in 'condition' are a very big categorical data field consisting of nearly half of the total rows. We can also observe that there are 502 types of drugs but 1427 values of the conditions. This means that one drug can be used to treat more than one condition."
   ]
  },
  {
   "cell_type": "markdown",
   "metadata": {},
   "source": [
    "## Data Cleaning"
   ]
  },
  {
   "cell_type": "markdown",
   "metadata": {},
   "source": [
    "First of all, we have some rows that contain 'see above' comments which refer to one of the other review columns for the same sample ID. If we lumps all the review columns together in one field, that field will also include the column that precedes it. This will also increase the information context per feature in the analysis. The 'see above', 'none' reviews should be taken care by replacing them with a blank string."
   ]
  },
  {
   "cell_type": "code",
   "execution_count": 8,
   "metadata": {},
   "outputs": [],
   "source": [
    "# import important packages\n",
    "from sklearn.preprocessing import OneHotEncoder"
   ]
  },
  {
   "cell_type": "markdown",
   "metadata": {},
   "source": [
    "### Emptry String Cleaning"
   ]
  },
  {
   "cell_type": "code",
   "execution_count": 9,
   "metadata": {},
   "outputs": [
    {
     "data": {
      "text/html": [
       "<div>\n",
       "<style scoped>\n",
       "    .dataframe tbody tr th:only-of-type {\n",
       "        vertical-align: middle;\n",
       "    }\n",
       "\n",
       "    .dataframe tbody tr th {\n",
       "        vertical-align: top;\n",
       "    }\n",
       "\n",
       "    .dataframe thead th {\n",
       "        text-align: right;\n",
       "    }\n",
       "</style>\n",
       "<table border=\"1\" class=\"dataframe\">\n",
       "  <thead>\n",
       "    <tr style=\"text-align: right;\">\n",
       "      <th></th>\n",
       "      <th>urlDrugName</th>\n",
       "      <th>rating</th>\n",
       "      <th>effectiveness</th>\n",
       "      <th>sideEffects</th>\n",
       "      <th>condition</th>\n",
       "      <th>benefitsReview</th>\n",
       "      <th>sideEffectsReview</th>\n",
       "      <th>commentsReview</th>\n",
       "      <th>combinedReview</th>\n",
       "    </tr>\n",
       "  </thead>\n",
       "  <tbody>\n",
       "    <tr>\n",
       "      <th>2202</th>\n",
       "      <td>enalapril</td>\n",
       "      <td>4</td>\n",
       "      <td>Highly Effective</td>\n",
       "      <td>Mild Side Effects</td>\n",
       "      <td>management of congestive heart failure</td>\n",
       "      <td>slowed the progression of left ventricular dysfunction into overt heart failure    alone or with other agents in the managment of hypertension    mangagement of congestive heart failur</td>\n",
       "      <td>cough, hypotension , proteinuria, impotence , renal failure , angina pectoris , tachycardia , eosinophilic pneumonitis, tastes disturbances , anusease anorecia , weakness fatigue insominca weakness</td>\n",
       "      <td>monitor blood pressure , weight and asses for resolution of fluid</td>\n",
       "      <td>slowed the progression of left ventricular dysfunction into overt heart failure    alone or with other agents in the managment of hypertension    mangagement of congestive heart failurcough, hypotension , proteinuria, impotence , renal failure , angina pectoris , tachycardia , eosinophilic pneumonitis, tastes disturbances , anusease anorecia , weakness fatigue insominca weaknessmonitor blood pressure , weight and asses for resolution of fluid</td>\n",
       "    </tr>\n",
       "    <tr>\n",
       "      <th>3117</th>\n",
       "      <td>ortho-tri-cyclen</td>\n",
       "      <td>1</td>\n",
       "      <td>Highly Effective</td>\n",
       "      <td>Severe Side Effects</td>\n",
       "      <td>birth prevention</td>\n",
       "      <td>although this type of birth control has more cons than pros, it did help with my cramps. it's also effective with the prevention of pregnancy. (along with use of condoms as well)</td>\n",
       "      <td>heavy cycle, cramps, hot flashes, fatigue, long lasting cycles. it's only been 5 1/2 months, but i'm concidering changing to a different bc. this is my first time using any kind of bc, unfortunately due to the constant hassel, i'm not happy with the results.</td>\n",
       "      <td>i hate this birth control, i would not suggest this to anyone.</td>\n",
       "      <td>although this type of birth control has more cons than pros, it did help with my cramps. it's also effective with the prevention of pregnancy. (along with use of condoms as well)heavy cycle, cramps, hot flashes, fatigue, long lasting cycles. it's only been 5 1/2 months, but i'm concidering changing to a different bc. this is my first time using any kind of bc, unfortunately due to the constant hassel, i'm not happy with the results.i hate this birth control, i would not suggest this to anyone.</td>\n",
       "    </tr>\n",
       "  </tbody>\n",
       "</table>\n",
       "</div>"
      ],
      "text/plain": [
       "           urlDrugName  rating     effectiveness          sideEffects  \\\n",
       "2202  enalapril         4       Highly Effective  Mild Side Effects     \n",
       "3117  ortho-tri-cyclen  1       Highly Effective  Severe Side Effects   \n",
       "\n",
       "                                   condition  \\\n",
       "2202  management of congestive heart failure   \n",
       "3117  birth prevention                         \n",
       "\n",
       "                                                                                                                                                                                benefitsReview  \\\n",
       "2202  slowed the progression of left ventricular dysfunction into overt heart failure    alone or with other agents in the managment of hypertension    mangagement of congestive heart failur   \n",
       "3117  although this type of birth control has more cons than pros, it did help with my cramps. it's also effective with the prevention of pregnancy. (along with use of condoms as well)         \n",
       "\n",
       "                                                                                                                                                                                                                                                       sideEffectsReview  \\\n",
       "2202  cough, hypotension , proteinuria, impotence , renal failure , angina pectoris , tachycardia , eosinophilic pneumonitis, tastes disturbances , anusease anorecia , weakness fatigue insominca weakness                                                                \n",
       "3117  heavy cycle, cramps, hot flashes, fatigue, long lasting cycles. it's only been 5 1/2 months, but i'm concidering changing to a different bc. this is my first time using any kind of bc, unfortunately due to the constant hassel, i'm not happy with the results.   \n",
       "\n",
       "                                                         commentsReview  \\\n",
       "2202  monitor blood pressure , weight and asses for resolution of fluid   \n",
       "3117  i hate this birth control, i would not suggest this to anyone.      \n",
       "\n",
       "                                                                                                                                                                                                                                                                                                                                                                                                                                                                                                          combinedReview  \n",
       "2202  slowed the progression of left ventricular dysfunction into overt heart failure    alone or with other agents in the managment of hypertension    mangagement of congestive heart failurcough, hypotension , proteinuria, impotence , renal failure , angina pectoris , tachycardia , eosinophilic pneumonitis, tastes disturbances , anusease anorecia , weakness fatigue insominca weaknessmonitor blood pressure , weight and asses for resolution of fluid                                                      \n",
       "3117  although this type of birth control has more cons than pros, it did help with my cramps. it's also effective with the prevention of pregnancy. (along with use of condoms as well)heavy cycle, cramps, hot flashes, fatigue, long lasting cycles. it's only been 5 1/2 months, but i'm concidering changing to a different bc. this is my first time using any kind of bc, unfortunately due to the constant hassel, i'm not happy with the results.i hate this birth control, i would not suggest this to anyone.  "
      ]
     },
     "execution_count": 9,
     "metadata": {},
     "output_type": "execute_result"
    }
   ],
   "source": [
    "# lower the text to remove empty string representatives\n",
    "training_df['benefitsReview'] = training_df['benefitsReview'].str.lower()\n",
    "training_df['sideEffectsReview'] = training_df['sideEffectsReview'].str.lower()\n",
    "training_df['commentsReview'] = training_df['commentsReview'].str.lower()\n",
    "\n",
    "# drop rows that contain 'none' value in condition\n",
    "none_condition_rows = len(training_df[training_df['condition'].apply(lambda x: str(x) == 'none')])\n",
    "if none_condition_rows > 0:\n",
    "    training_df.drop(training_df[training_df.condition == 'none'].index, inplace=True)\n",
    "\n",
    "# it seems that there is a problem about return lines ('\\r' and '\\n') replace all of \\r's with white space\n",
    "new_line_chars = ['\\r', '\\n']\n",
    "training_df.benefitsReview.replace(to_replace=new_line_chars, value=' ', regex=True, inplace=True)\n",
    "training_df.sideEffectsReview.replace(to_replace=new_line_chars, value=' ', regex=True, inplace=True)\n",
    "training_df.commentsReview.replace(to_replace=new_line_chars, value=' ', regex=True, inplace=True)\n",
    "\n",
    "# replace all of 'none' comments in all review columns with empty string\n",
    "non_comments = ['none', 'see above', 'NaN', 'NA', np.nan]\n",
    "training_df.benefitsReview.replace(to_replace=non_comments, value=' ', regex=True, inplace=True)\n",
    "training_df.sideEffectsReview.replace(to_replace=non_comments, value=' ', regex=True, inplace=True)\n",
    "training_df.commentsReview.replace(to_replace=non_comments, value=' ', regex=True, inplace=True)\n",
    "\n",
    "# combine all the review comments together for NLP\n",
    "training_df['combinedReview'] = training_df['benefitsReview'].astype(str) + '' + training_df['sideEffectsReview'] \\\n",
    "                                + '' + training_df['commentsReview']\n",
    "\n",
    "pd.set_option('display.max_colwidth', -1)\n",
    "training_df.head(2)"
   ]
  },
  {
   "cell_type": "code",
   "execution_count": 10,
   "metadata": {},
   "outputs": [],
   "source": [
    "#######################################################\n",
    "# we do the same for test data\n",
    "#######################################################\n",
    "\n",
    "test_df['benefitsReview'] = test_df['benefitsReview'].str.lower()\n",
    "test_df['sideEffectsReview'] = test_df['sideEffectsReview'].str.lower()\n",
    "test_df['commentsReview'] = test_df['commentsReview'].str.lower()\n",
    "\n",
    "none_condition_rows = len(test_df[test_df['condition'].apply(lambda x: str(x) == 'none')])\n",
    "\n",
    "if none_condition_rows > 0:\n",
    "    test_df.drop(test_df[test_df.condition == 'none'].index, inplace=True)\n",
    "    \n",
    "test_df.benefitsReview.replace(to_replace=new_line_chars, value=' ', regex=True, inplace=True)\n",
    "test_df.sideEffectsReview.replace(to_replace=new_line_chars, value=' ', regex=True, inplace=True)\n",
    "test_df.commentsReview.replace(to_replace=new_line_chars, value=' ', regex=True, inplace=True)\n",
    "test_df.benefitsReview.replace(to_replace=non_comments, value=' ', regex=True, inplace=True)\n",
    "test_df.sideEffectsReview.replace(to_replace=non_comments, value=' ', regex=True, inplace=True)\n",
    "test_df.commentsReview.replace(to_replace=non_comments, value=' ', regex=True, inplace=True)\n",
    "\n",
    "test_df['combinedReview'] = test_df['benefitsReview'].astype(str) + '' + test_df['sideEffectsReview'] \\\n",
    "                            + '' + test_df['commentsReview']"
   ]
  },
  {
   "cell_type": "markdown",
   "metadata": {},
   "source": [
    "Notice that the columns 'effectiveness' and 'sideEffects' are strings, but can be encoded with numbers from 0-4 and still maintain meaningful information. They are both ordinal categories."
   ]
  },
  {
   "cell_type": "code",
   "execution_count": 11,
   "metadata": {},
   "outputs": [
    {
     "name": "stderr",
     "output_type": "stream",
     "text": [
      "/anaconda3/lib/python3.6/site-packages/ipykernel_launcher.py:41: FutureWarning: specifying 'categories' or 'ordered' in .astype() is deprecated; pass a CategoricalDtype instead\n",
      "/anaconda3/lib/python3.6/site-packages/ipykernel_launcher.py:42: FutureWarning: specifying 'categories' or 'ordered' in .astype() is deprecated; pass a CategoricalDtype instead\n"
     ]
    },
    {
     "data": {
      "text/html": [
       "<div>\n",
       "<style scoped>\n",
       "    .dataframe tbody tr th:only-of-type {\n",
       "        vertical-align: middle;\n",
       "    }\n",
       "\n",
       "    .dataframe tbody tr th {\n",
       "        vertical-align: top;\n",
       "    }\n",
       "\n",
       "    .dataframe thead th {\n",
       "        text-align: right;\n",
       "    }\n",
       "</style>\n",
       "<table border=\"1\" class=\"dataframe\">\n",
       "  <thead>\n",
       "    <tr style=\"text-align: right;\">\n",
       "      <th></th>\n",
       "      <th>effectiveness</th>\n",
       "      <th>effectiveness_encoded</th>\n",
       "      <th>sideEffects</th>\n",
       "      <th>sideEffects_encoded</th>\n",
       "    </tr>\n",
       "  </thead>\n",
       "  <tbody>\n",
       "    <tr>\n",
       "      <th>2202</th>\n",
       "      <td>highly effective</td>\n",
       "      <td>4</td>\n",
       "      <td>mild side effects</td>\n",
       "      <td>3</td>\n",
       "    </tr>\n",
       "    <tr>\n",
       "      <th>3117</th>\n",
       "      <td>highly effective</td>\n",
       "      <td>4</td>\n",
       "      <td>severe side effects</td>\n",
       "      <td>1</td>\n",
       "    </tr>\n",
       "    <tr>\n",
       "      <th>...</th>\n",
       "      <td>...</td>\n",
       "      <td>...</td>\n",
       "      <td>...</td>\n",
       "      <td>...</td>\n",
       "    </tr>\n",
       "    <tr>\n",
       "      <th>2621</th>\n",
       "      <td>considerably effective</td>\n",
       "      <td>3</td>\n",
       "      <td>mild side effects</td>\n",
       "      <td>3</td>\n",
       "    </tr>\n",
       "    <tr>\n",
       "      <th>2748</th>\n",
       "      <td>moderately effective</td>\n",
       "      <td>2</td>\n",
       "      <td>moderate side effects</td>\n",
       "      <td>2</td>\n",
       "    </tr>\n",
       "  </tbody>\n",
       "</table>\n",
       "<p>3095 rows × 4 columns</p>\n",
       "</div>"
      ],
      "text/plain": [
       "               effectiveness  effectiveness_encoded            sideEffects  \\\n",
       "2202  highly effective        4                      mild side effects       \n",
       "3117  highly effective        4                      severe side effects     \n",
       "...                ...       ..                                      ...     \n",
       "2621  considerably effective  3                      mild side effects       \n",
       "2748  moderately effective    2                      moderate side effects   \n",
       "\n",
       "      sideEffects_encoded  \n",
       "2202  3                    \n",
       "3117  1                    \n",
       "...  ..                    \n",
       "2621  3                    \n",
       "2748  2                    \n",
       "\n",
       "[3095 rows x 4 columns]"
      ]
     },
     "execution_count": 11,
     "metadata": {},
     "output_type": "execute_result"
    }
   ],
   "source": [
    "# effective means high score\n",
    "effectiveness_encode = {\n",
    "    'ineffective':0, \n",
    "    'marginally effective':1, \n",
    "    'moderately effective':2, \n",
    "    'considerably effective':3, \n",
    "    'highly effective':4,\n",
    "}\n",
    "\n",
    "# more side effects mean low scores\n",
    "sideEffects_encode = {\n",
    "    'extremely severe side effects': 0,\n",
    "    'severe side effects': 1,\n",
    "    'moderate side effects': 2,\n",
    "    'mild side effects': 3,\n",
    "    'no side effects':4,\n",
    "}\n",
    "\n",
    "training_df['effectiveness'] = training_df['effectiveness'].str.lower()\n",
    "training_df['sideEffects'] = training_df['sideEffects'].str.lower()\n",
    "\n",
    "training_df['effectiveness_encoded'] = training_df['effectiveness'].str.lower().map(effectiveness_encode)\n",
    "training_df['sideEffects_encoded'] = training_df['sideEffects'].str.lower().map(sideEffects_encode)\n",
    "\n",
    "# we use one-hot encoding instead of label encoding becaause of the flaw in sklearn implementation that gives meaning to the encoded numbers\n",
    "# encoding for drug names and conditions\n",
    "\n",
    "training_df_drug_dm = pd.get_dummies(training_df['urlDrugName'])\n",
    "training_df_cond_dm = pd.get_dummies(training_df['condition'])\n",
    "\n",
    "# do the same for test data\n",
    "test_df['effectiveness'] = test_df['effectiveness'].str.lower()\n",
    "test_df['sideEffects'] = test_df['sideEffects'].str.lower()\n",
    "\n",
    "test_df['effectiveness_encoded'] = test_df['effectiveness'].str.lower().map(effectiveness_encode)\n",
    "test_df['sideEffects_encoded'] = test_df['sideEffects'].str.lower().map(sideEffects_encode)\n",
    "\n",
    "name_category = training_df['urlDrugName'].unique()\n",
    "cond_category = training_df['condition'].unique()\n",
    "\n",
    "test_df['urlDrugName'] = test_df['urlDrugName'].astype('category',categories=name_category)\n",
    "test_df['condition'] = test_df['condition'].astype('category',categories=cond_category)\n",
    "\n",
    "test_df_drug_dm = pd.get_dummies(test_df['urlDrugName'])\n",
    "test_df_cond_dm = pd.get_dummies(test_df['condition'])\n",
    "\n",
    "pd.set_option('display.max_rows', 5)\n",
    "training_df[['effectiveness', 'effectiveness_encoded', 'sideEffects', 'sideEffects_encoded', \n",
    "]]"
   ]
  },
  {
   "cell_type": "markdown",
   "metadata": {},
   "source": [
    "## Data Exploratory and Feature Engineering\n",
    "\n",
    "Now, after removing rows with missing values and cleaning up the data, we explore and try to get a better understanding. Let's take a look at the length of the text of the reviews and if there is any significance correlation between ratings and the length of the reviews by adding columns for the number of the characters for each of the three reviews. This is from an assumption that people who are very satisfied or dissatisfied with a product usually give a lengthly review. The statistics will tell us whether this is true or not."
   ]
  },
  {
   "cell_type": "code",
   "execution_count": 12,
   "metadata": {},
   "outputs": [
    {
     "data": {
      "text/html": [
       "<div>\n",
       "<style scoped>\n",
       "    .dataframe tbody tr th:only-of-type {\n",
       "        vertical-align: middle;\n",
       "    }\n",
       "\n",
       "    .dataframe tbody tr th {\n",
       "        vertical-align: top;\n",
       "    }\n",
       "\n",
       "    .dataframe thead th {\n",
       "        text-align: right;\n",
       "    }\n",
       "</style>\n",
       "<table border=\"1\" class=\"dataframe\">\n",
       "  <thead>\n",
       "    <tr style=\"text-align: right;\">\n",
       "      <th></th>\n",
       "      <th>urlDrugName</th>\n",
       "      <th>rating</th>\n",
       "      <th>effectiveness</th>\n",
       "      <th>sideEffects</th>\n",
       "      <th>condition</th>\n",
       "      <th>benefitsReview</th>\n",
       "      <th>sideEffectsReview</th>\n",
       "      <th>commentsReview</th>\n",
       "      <th>combinedReview</th>\n",
       "      <th>effectiveness_encoded</th>\n",
       "      <th>sideEffects_encoded</th>\n",
       "      <th>combinedReview_length</th>\n",
       "    </tr>\n",
       "  </thead>\n",
       "  <tbody>\n",
       "    <tr>\n",
       "      <th>2202</th>\n",
       "      <td>enalapril</td>\n",
       "      <td>4</td>\n",
       "      <td>highly effective</td>\n",
       "      <td>mild side effects</td>\n",
       "      <td>management of congestive heart failure</td>\n",
       "      <td>slowed the progression of left ventricular dysfunction into overt heart failure    alone or with other agents in the managment of hypertension    mangagement of congestive heart failur</td>\n",
       "      <td>cough, hypotension , proteinuria, impotence , renal failure , angina pectoris , tachycardia , eosinophilic pneumonitis, tastes disturbances , anusease anorecia , weakness fatigue insominca weakness</td>\n",
       "      <td>monitor blood pressure , weight and asses for resolution of fluid</td>\n",
       "      <td>slowed the progression of left ventricular dysfunction into overt heart failure    alone or with other agents in the managment of hypertension    mangagement of congestive heart failurcough, hypotension , proteinuria, impotence , renal failure , angina pectoris , tachycardia , eosinophilic pneumonitis, tastes disturbances , anusease anorecia , weakness fatigue insominca weaknessmonitor blood pressure , weight and asses for resolution of fluid</td>\n",
       "      <td>4</td>\n",
       "      <td>3</td>\n",
       "      <td>446</td>\n",
       "    </tr>\n",
       "    <tr>\n",
       "      <th>3117</th>\n",
       "      <td>ortho-tri-cyclen</td>\n",
       "      <td>1</td>\n",
       "      <td>highly effective</td>\n",
       "      <td>severe side effects</td>\n",
       "      <td>birth prevention</td>\n",
       "      <td>although this type of birth control has more cons than pros, it did help with my cramps. it's also effective with the prevention of pregnancy. (along with use of condoms as well)</td>\n",
       "      <td>heavy cycle, cramps, hot flashes, fatigue, long lasting cycles. it's only been 5 1/2 months, but i'm concidering changing to a different bc. this is my first time using any kind of bc, unfortunately due to the constant hassel, i'm not happy with the results.</td>\n",
       "      <td>i hate this birth control, i would not suggest this to anyone.</td>\n",
       "      <td>although this type of birth control has more cons than pros, it did help with my cramps. it's also effective with the prevention of pregnancy. (along with use of condoms as well)heavy cycle, cramps, hot flashes, fatigue, long lasting cycles. it's only been 5 1/2 months, but i'm concidering changing to a different bc. this is my first time using any kind of bc, unfortunately due to the constant hassel, i'm not happy with the results.i hate this birth control, i would not suggest this to anyone.</td>\n",
       "      <td>4</td>\n",
       "      <td>1</td>\n",
       "      <td>498</td>\n",
       "    </tr>\n",
       "  </tbody>\n",
       "</table>\n",
       "</div>"
      ],
      "text/plain": [
       "           urlDrugName  rating     effectiveness          sideEffects  \\\n",
       "2202  enalapril         4       highly effective  mild side effects     \n",
       "3117  ortho-tri-cyclen  1       highly effective  severe side effects   \n",
       "\n",
       "                                   condition  \\\n",
       "2202  management of congestive heart failure   \n",
       "3117  birth prevention                         \n",
       "\n",
       "                                                                                                                                                                                benefitsReview  \\\n",
       "2202  slowed the progression of left ventricular dysfunction into overt heart failure    alone or with other agents in the managment of hypertension    mangagement of congestive heart failur   \n",
       "3117  although this type of birth control has more cons than pros, it did help with my cramps. it's also effective with the prevention of pregnancy. (along with use of condoms as well)         \n",
       "\n",
       "                                                                                                                                                                                                                                                       sideEffectsReview  \\\n",
       "2202  cough, hypotension , proteinuria, impotence , renal failure , angina pectoris , tachycardia , eosinophilic pneumonitis, tastes disturbances , anusease anorecia , weakness fatigue insominca weakness                                                                \n",
       "3117  heavy cycle, cramps, hot flashes, fatigue, long lasting cycles. it's only been 5 1/2 months, but i'm concidering changing to a different bc. this is my first time using any kind of bc, unfortunately due to the constant hassel, i'm not happy with the results.   \n",
       "\n",
       "                                                         commentsReview  \\\n",
       "2202  monitor blood pressure , weight and asses for resolution of fluid   \n",
       "3117  i hate this birth control, i would not suggest this to anyone.      \n",
       "\n",
       "                                                                                                                                                                                                                                                                                                                                                                                                                                                                                                          combinedReview  \\\n",
       "2202  slowed the progression of left ventricular dysfunction into overt heart failure    alone or with other agents in the managment of hypertension    mangagement of congestive heart failurcough, hypotension , proteinuria, impotence , renal failure , angina pectoris , tachycardia , eosinophilic pneumonitis, tastes disturbances , anusease anorecia , weakness fatigue insominca weaknessmonitor blood pressure , weight and asses for resolution of fluid                                                       \n",
       "3117  although this type of birth control has more cons than pros, it did help with my cramps. it's also effective with the prevention of pregnancy. (along with use of condoms as well)heavy cycle, cramps, hot flashes, fatigue, long lasting cycles. it's only been 5 1/2 months, but i'm concidering changing to a different bc. this is my first time using any kind of bc, unfortunately due to the constant hassel, i'm not happy with the results.i hate this birth control, i would not suggest this to anyone.   \n",
       "\n",
       "      effectiveness_encoded  sideEffects_encoded  combinedReview_length  \n",
       "2202  4                      3                    446                    \n",
       "3117  4                      1                    498                    "
      ]
     },
     "execution_count": 12,
     "metadata": {},
     "output_type": "execute_result"
    }
   ],
   "source": [
    "# import important packages for plotting and feature extraction\n",
    "import seaborn as sns\n",
    "import matplotlib.pyplot as plt\n",
    "from sklearn.feature_extraction.text import TfidfVectorizer\n",
    "\n",
    "%matplotlib inline\n",
    "\n",
    "# caculate the length of the combined comment column \n",
    "training_df['combinedReview_length'] = training_df['combinedReview'].apply(len)\n",
    "\n",
    "# we do the same for test data\n",
    "test_df['combinedReview_length'] = test_df['combinedReview'].apply(len)\n",
    "\n",
    "training_df.head(2)"
   ]
  },
  {
   "cell_type": "markdown",
   "metadata": {},
   "source": [
    "Then we plot histograms of length of comment 'combinedReview_length' versus rating of the drug 'rating'. "
   ]
  },
  {
   "cell_type": "code",
   "execution_count": 13,
   "metadata": {},
   "outputs": [
    {
     "data": {
      "text/plain": [
       "<seaborn.axisgrid.FacetGrid at 0x1a1e5964e0>"
      ]
     },
     "execution_count": 13,
     "metadata": {},
     "output_type": "execute_result"
    },
    {
     "data": {
      "image/png": "[encoded data removed]",
      "text/plain": [
       "<matplotlib.figure.Figure at 0x11bfc33c8>"
      ]
     },
     "metadata": {},
     "output_type": "display_data"
    }
   ],
   "source": [
    "plt.rcParams['figure.figsize'] = [10, 5]\n",
    "\n",
    "grid = sns.FacetGrid(data=training_df, col='rating', col_wrap=5)\n",
    "grid.map(plt.hist, 'combinedReview_length', bins=20)"
   ]
  },
  {
   "cell_type": "markdown",
   "metadata": {},
   "source": [
    "We can see that the distributions look similar across all the ratings with the amount of text accumulated in the higher ratings (>7). Most of the reviews tend to not exceed 1000 characters long. \n",
    "\n",
    "From the text length column, we then progress to plot the length of each review versus its rating. According to the plots above, we expect that the lowest rating and higher ratings contain the majority of the text. "
   ]
  },
  {
   "cell_type": "code",
   "execution_count": 14,
   "metadata": {},
   "outputs": [
    {
     "data": {
      "text/plain": [
       "<matplotlib.axes._subplots.AxesSubplot at 0x1a27d3d1d0>"
      ]
     },
     "execution_count": 14,
     "metadata": {},
     "output_type": "execute_result"
    },
    {
     "data": {
      "image/png": "[encoded data removed]",
      "text/plain": [
       "<matplotlib.figure.Figure at 0x1a27ea83c8>"
      ]
     },
     "metadata": {},
     "output_type": "display_data"
    }
   ],
   "source": [
    "sns.boxplot(x='rating', y='combinedReview_length', data=training_df)"
   ]
  },
  {
   "cell_type": "markdown",
   "metadata": {},
   "source": [
    "It seems like text length might not hold that much information for the ratings. As a result, we are not including this feature in the modelling. We could compare training with and without this feature but it will take additional investigations and is outside the scope of this project.\n",
    "\n",
    "Next, we explore the distribution of the ratings to see which ratings are the most frequent. If the data is too skewed, it could affect our analysis."
   ]
  },
  {
   "cell_type": "code",
   "execution_count": 15,
   "metadata": {},
   "outputs": [
    {
     "data": {
      "text/plain": [
       "<matplotlib.axes._subplots.AxesSubplot at 0x1a2805a940>"
      ]
     },
     "execution_count": 15,
     "metadata": {},
     "output_type": "execute_result"
    },
    {
     "data": {
      "image/png": "[encoded data removed]",
      "text/plain": [
       "<matplotlib.figure.Figure at 0x1a27e6f9e8>"
      ]
     },
     "metadata": {},
     "output_type": "display_data"
    }
   ],
   "source": [
    " rating = training_df.rating\n",
    "sns.countplot(x=training_df.rating, data=training_df)"
   ]
  },
  {
   "cell_type": "markdown",
   "metadata": {},
   "source": [
    "From the distribution above, we can see that it skews towards the higher ratings. One problem about this rating system with 1-10 points is that the classification between the adjacent scores such as 8 and 9. If the drug works well with little to no side effects, the patient might give 8, 9, or 10 without too much thought about it. Within a particular score region, it is entirely subjective. \n",
    "\n",
    "As a result, we can mitigate this problem by categorizing into 3 groups: \n",
    "- 1-3 for bad\n",
    "- 4-7 for medium\n",
    "- and 8-10 for good results. \n",
    "\n",
    "With this method, we reduce the noise of the data."
   ]
  },
  {
   "cell_type": "code",
   "execution_count": 16,
   "metadata": {},
   "outputs": [
    {
     "data": {
      "text/html": [
       "<div>\n",
       "<style scoped>\n",
       "    .dataframe tbody tr th:only-of-type {\n",
       "        vertical-align: middle;\n",
       "    }\n",
       "\n",
       "    .dataframe tbody tr th {\n",
       "        vertical-align: top;\n",
       "    }\n",
       "\n",
       "    .dataframe thead th {\n",
       "        text-align: right;\n",
       "    }\n",
       "</style>\n",
       "<table border=\"1\" class=\"dataframe\">\n",
       "  <thead>\n",
       "    <tr style=\"text-align: right;\">\n",
       "      <th></th>\n",
       "      <th>urlDrugName</th>\n",
       "      <th>rating</th>\n",
       "      <th>rating_binned</th>\n",
       "    </tr>\n",
       "  </thead>\n",
       "  <tbody>\n",
       "    <tr>\n",
       "      <th>2202</th>\n",
       "      <td>enalapril</td>\n",
       "      <td>4</td>\n",
       "      <td>2</td>\n",
       "    </tr>\n",
       "    <tr>\n",
       "      <th>3117</th>\n",
       "      <td>ortho-tri-cyclen</td>\n",
       "      <td>1</td>\n",
       "      <td>1</td>\n",
       "    </tr>\n",
       "    <tr>\n",
       "      <th>...</th>\n",
       "      <td>...</td>\n",
       "      <td>...</td>\n",
       "      <td>...</td>\n",
       "    </tr>\n",
       "    <tr>\n",
       "      <th>2621</th>\n",
       "      <td>trileptal</td>\n",
       "      <td>8</td>\n",
       "      <td>3</td>\n",
       "    </tr>\n",
       "    <tr>\n",
       "      <th>2748</th>\n",
       "      <td>micardis</td>\n",
       "      <td>4</td>\n",
       "      <td>2</td>\n",
       "    </tr>\n",
       "  </tbody>\n",
       "</table>\n",
       "<p>3095 rows × 3 columns</p>\n",
       "</div>"
      ],
      "text/plain": [
       "           urlDrugName  rating rating_binned\n",
       "2202  enalapril         4       2           \n",
       "3117  ortho-tri-cyclen  1       1           \n",
       "...                ... ..      ..           \n",
       "2621  trileptal         8       3           \n",
       "2748  micardis          4       2           \n",
       "\n",
       "[3095 rows x 3 columns]"
      ]
     },
     "execution_count": 16,
     "metadata": {},
     "output_type": "execute_result"
    }
   ],
   "source": [
    "bins = [0,3.5,7.5,10] # the edges of the bins\n",
    "labels = [1, 2, 3] # 1 = bad, 2 = medium, 3 = good\n",
    "training_df['rating_binned'] = pd.cut(x=training_df['rating'], bins=bins, labels=labels)\n",
    "test_df['rating_binned'] = pd.cut(x=test_df['rating'], bins=bins, labels=labels)\n",
    "\n",
    "training_df[['urlDrugName', 'rating', 'rating_binned']]"
   ]
  },
  {
   "cell_type": "markdown",
   "metadata": {},
   "source": [
    "Let's also have a quick look at our feature space in the review description"
   ]
  },
  {
   "cell_type": "code",
   "execution_count": 17,
   "metadata": {},
   "outputs": [
    {
     "data": {
      "text/plain": [
       "(3095, 121838)"
      ]
     },
     "execution_count": 17,
     "metadata": {},
     "output_type": "execute_result"
    }
   ],
   "source": [
    "vectorizer = TfidfVectorizer(stop_words='english', ngram_range=(1,3))\n",
    "X_vec = vectorizer.fit_transform(training_df['commentsReview'].values.astype('U'))\n",
    "X_vec.shape"
   ]
  },
  {
   "cell_type": "code",
   "execution_count": 18,
   "metadata": {},
   "outputs": [
    {
     "data": {
      "text/plain": [
       "['perhaps',\n",
       " 'down',\n",
       " 'indeed',\n",
       " 'rather',\n",
       " 'less',\n",
       " 'anyone',\n",
       " 'find',\n",
       " 'much',\n",
       " 'his',\n",
       " 'either',\n",
       " 'etc',\n",
       " 'should',\n",
       " 'could',\n",
       " 'somewhere',\n",
       " 'thin',\n",
       " 'whole',\n",
       " 'whether',\n",
       " 'into',\n",
       " 'fifty',\n",
       " 'him']"
      ]
     },
     "execution_count": 18,
     "metadata": {},
     "output_type": "execute_result"
    }
   ],
   "source": [
    "# plotting first 20 for now, can be adjusted for investigation purposes\n",
    "stopwords = list(vectorizer.get_stop_words())\n",
    "stopwords[:20]"
   ]
  },
  {
   "cell_type": "code",
   "execution_count": 19,
   "metadata": {},
   "outputs": [
    {
     "data": {
      "text/plain": [
       "['00',\n",
       " '00 10mgs',\n",
       " '00 10mgs 20mg',\n",
       " '00 75g',\n",
       " '00 75g dose',\n",
       " '00 month',\n",
       " '00 month periodic',\n",
       " '00 pm',\n",
       " '00 pm awake',\n",
       " '00 worth',\n",
       " '00 worth pills',\n",
       " '000',\n",
       " '000 mg',\n",
       " '000 mg brought',\n",
       " '000 mg day',\n",
       " '000 mgs',\n",
       " '000 mgs quite',\n",
       " '000 units',\n",
       " '000 units vit',\n",
       " '000mg']"
      ]
     },
     "execution_count": 19,
     "metadata": {},
     "output_type": "execute_result"
    }
   ],
   "source": [
    "# plotting first 20 for now, can be adjusted for investigation purposes\n",
    "features = vectorizer.get_feature_names()\n",
    "features[:20]"
   ]
  },
  {
   "cell_type": "markdown",
   "metadata": {},
   "source": [
    "## Data Modelling\n",
    "\n",
    "First we use a \"Decision Tree\" on the effetiveness score and sideEffect score to predict the overall rating, to obtain a baseline for the F1-score and then we move on to NLP-based techniques"
   ]
  },
  {
   "cell_type": "code",
   "execution_count": 20,
   "metadata": {},
   "outputs": [
    {
     "name": "stdout",
     "output_type": "stream",
     "text": [
      "Requirement already satisfied: mord in /anaconda3/lib/python3.6/site-packages (0.6)\n"
     ]
    },
    {
     "name": "stderr",
     "output_type": "stream",
     "text": [
      "/anaconda3/lib/python3.6/site-packages/h5py/__init__.py:36: FutureWarning: Conversion of the second argument of issubdtype from `float` to `np.floating` is deprecated. In future, it will be treated as `np.float64 == np.dtype(float).type`.\n",
      "  from ._conv import register_converters as _register_converters\n",
      "Using TensorFlow backend.\n"
     ]
    }
   ],
   "source": [
    "# import important packages from the nltk and sklearn library\n",
    "! pip install mord\n",
    "import string\n",
    "import nltk\n",
    "from nltk.corpus import stopwords\n",
    "from nltk.tokenize import sent_tokenize, word_tokenize\n",
    "from nltk.stem import WordNetLemmatizer\n",
    "from sklearn.tree import DecisionTreeClassifier\n",
    "from sklearn.metrics import classification_report\n",
    "from sklearn.metrics import r2_score\n",
    "from sklearn.feature_extraction.text import CountVectorizer\n",
    "from sklearn.metrics import classification_report\n",
    "from sklearn.naive_bayes import MultinomialNB\n",
    "from sklearn.pipeline import Pipeline\n",
    "from sklearn import linear_model, metrics, preprocessing\n",
    "from sklearn.metrics import classification_report\n",
    "import mord\n",
    "from keras.preprocessing.text import Tokenizer\n",
    "from keras.preprocessing.sequence import pad_sequences\n",
    "from keras.utils import to_categorical\n",
    "from keras.layers import Dense, Input, Flatten, Dropout, Add, Subtract, Multiply, Concatenate, Dot, Maximum\n",
    "from keras.layers import Conv1D, MaxPooling1D, Embedding\n",
    "from keras.callbacks import EarlyStopping, ModelCheckpoint\n",
    "from keras.layers import LSTM, Bidirectional\n",
    "from keras.models import Model, Sequential"
   ]
  },
  {
   "cell_type": "markdown",
   "metadata": {},
   "source": [
    "### Decision Tree\n",
    "We neglect all of the review columns for now and use the one-hot encoded categorial columns 'urlDrugName' and 'condition' and label-encoded 'effectiveness' and 'sideEffects'. Decision tree method is chosen to be our first model because of its speed, easy-to-understand, simple-to-tune, and can be boosted by incorporate boosting techniques such as AdaBoost, or randomness in random forest method.\n",
    "\n",
    "Decision trees generally give good results, are easy to implement, fast, and usually interprettable to a degree. The performance of decision tree method can also be improved by a number of techniques, random forest, AdaBoost, etc. \n",
    "\n",
    "We start with a simple decision tree classifier that takes 'urlDrugName', 'effectiveness', 'sideEffects', and\t'condition' as inputs. Then, the rating results are rounded to the closest integers."
   ]
  },
  {
   "cell_type": "code",
   "execution_count": 21,
   "metadata": {},
   "outputs": [
    {
     "name": "stdout",
     "output_type": "stream",
     "text": [
      "Report:\n",
      "             precision    recall  f1-score   support\n",
      "\n",
      "        bad       0.82      0.73      0.77       197\n",
      "     medium       0.65      0.67      0.66       290\n",
      "       good       0.87      0.89      0.88       549\n",
      "\n",
      "avg / total       0.80      0.79      0.79      1036\n",
      "\n",
      "R2 score: 0.6120699219664936\n",
      "\n",
      "##################################################\n",
      "\n"
     ]
    }
   ],
   "source": [
    "# concatenate dataframes\n",
    "training_df_sliced = training_df[['effectiveness_encoded', 'sideEffects_encoded']]\n",
    "test_df_sliced = test_df[['effectiveness_encoded', 'sideEffects_encoded']]\n",
    "\n",
    "concat_training_df = pd.concat([training_df_sliced, training_df_drug_dm, training_df_cond_dm], axis=1)\n",
    "concat_test_df = pd.concat([test_df_sliced, test_df_drug_dm, test_df_cond_dm], axis=1)\n",
    "\n",
    "\n",
    "X_train = concat_training_df\n",
    "y_train = training_df['rating_binned']\n",
    "\n",
    "clf = DecisionTreeClassifier(max_depth=5) \n",
    "clf = clf.fit(X_train,y_train)\n",
    "\n",
    "X_test = concat_test_df\n",
    "y_test = test_df['rating_binned']\n",
    "y_pred = clf.predict(X_test)\n",
    "\n",
    "target_names = ['bad', 'medium', 'good']\n",
    "print('Report:')\n",
    "print(classification_report(y_test,y_pred, target_names=target_names))\n",
    "print('R2 score: {}'.format(r2_score(y_test,y_pred)))\n",
    "\n",
    "print('\\n' + '##################################################' + '\\n')"
   ]
  },
  {
   "cell_type": "markdown",
   "metadata": {},
   "source": [
    "From a simple decision tree with binned rating column, we get a pretty good f1-score at 0.79. From this point, we can probably fine tune it to reach 0.8 without a lof of effort. Lets now move on to some real NLP algorithms to make a review score predictor based on the text fields alone."
   ]
  },
  {
   "cell_type": "markdown",
   "metadata": {},
   "source": [
    "### NLP\n",
    "\n",
    "Now, let's up NLP to analyse to dataset and compare the results with the f1-score we got from decision tree model. \n",
    "\n",
    "#### Text preprocessing\n",
    "\n",
    "For text preprocessing, NLTK has much more features than SkLearn, so we use NLTK to do preprocessing and leave the training to SkLearn package.\n",
    "\n",
    "1. Tokenization to separate into and words\n",
    "    - the text is separated into works by space and period. Contractions such as 'don't' are treated as two words\n",
    "2. Remove stop words such as 'a', 'an', 'the'\n",
    "    - stop words do not contain meaningful information\n",
    "3. Remove punctuations\n",
    "4. Lemmatization to convert the words into their dictionary forms. Since the dataset is not large so we choose lemmatization over stemming. WordNetLemmatizer will look up a dictionary to find a dictionary form for each word."
   ]
  },
  {
   "cell_type": "code",
   "execution_count": 22,
   "metadata": {},
   "outputs": [
    {
     "data": {
      "text/html": [
       "<div>\n",
       "<style scoped>\n",
       "    .dataframe tbody tr th:only-of-type {\n",
       "        vertical-align: middle;\n",
       "    }\n",
       "\n",
       "    .dataframe tbody tr th {\n",
       "        vertical-align: top;\n",
       "    }\n",
       "\n",
       "    .dataframe thead th {\n",
       "        text-align: right;\n",
       "    }\n",
       "</style>\n",
       "<table border=\"1\" class=\"dataframe\">\n",
       "  <thead>\n",
       "    <tr style=\"text-align: right;\">\n",
       "      <th></th>\n",
       "      <th>urlDrugName</th>\n",
       "      <th>rating</th>\n",
       "      <th>effectiveness</th>\n",
       "      <th>sideEffects</th>\n",
       "      <th>condition</th>\n",
       "      <th>benefitsReview</th>\n",
       "      <th>sideEffectsReview</th>\n",
       "      <th>commentsReview</th>\n",
       "      <th>combinedReview</th>\n",
       "      <th>effectiveness_encoded</th>\n",
       "      <th>sideEffects_encoded</th>\n",
       "      <th>combinedReview_length</th>\n",
       "      <th>rating_binned</th>\n",
       "      <th>combinedReview_processed</th>\n",
       "    </tr>\n",
       "  </thead>\n",
       "  <tbody>\n",
       "    <tr>\n",
       "      <th>2202</th>\n",
       "      <td>enalapril</td>\n",
       "      <td>4</td>\n",
       "      <td>highly effective</td>\n",
       "      <td>mild side effects</td>\n",
       "      <td>management of congestive heart failure</td>\n",
       "      <td>slowed the progression of left ventricular dysfunction into overt heart failure    alone or with other agents in the managment of hypertension    mangagement of congestive heart failur</td>\n",
       "      <td>cough, hypotension , proteinuria, impotence , renal failure , angina pectoris , tachycardia , eosinophilic pneumonitis, tastes disturbances , anusease anorecia , weakness fatigue insominca weakness</td>\n",
       "      <td>monitor blood pressure , weight and asses for resolution of fluid</td>\n",
       "      <td>slowed the progression of left ventricular dysfunction into overt heart failure    alone or with other agents in the managment of hypertension    mangagement of congestive heart failurcough, hypotension , proteinuria, impotence , renal failure , angina pectoris , tachycardia , eosinophilic pneumonitis, tastes disturbances , anusease anorecia , weakness fatigue insominca weaknessmonitor blood pressure , weight and asses for resolution of fluid</td>\n",
       "      <td>4</td>\n",
       "      <td>3</td>\n",
       "      <td>446</td>\n",
       "      <td>2</td>\n",
       "      <td>[slowed, progression, left, ventricular, dysfunction, overt, heart, failure, alone, agent, managment, hypertension, mangagement, congestive, heart, failurcough, hypotension, proteinuria, impotence, renal, failure, angina, pectoris, tachycardia, eosinophilic, pneumonitis, taste, disturbance, anusease, anorecia, weakness, fatigue, insominca, weaknessmonitor, blood, pressure, weight, ass, resolution, fluid]</td>\n",
       "    </tr>\n",
       "    <tr>\n",
       "      <th>3117</th>\n",
       "      <td>ortho-tri-cyclen</td>\n",
       "      <td>1</td>\n",
       "      <td>highly effective</td>\n",
       "      <td>severe side effects</td>\n",
       "      <td>birth prevention</td>\n",
       "      <td>although this type of birth control has more cons than pros, it did help with my cramps. it's also effective with the prevention of pregnancy. (along with use of condoms as well)</td>\n",
       "      <td>heavy cycle, cramps, hot flashes, fatigue, long lasting cycles. it's only been 5 1/2 months, but i'm concidering changing to a different bc. this is my first time using any kind of bc, unfortunately due to the constant hassel, i'm not happy with the results.</td>\n",
       "      <td>i hate this birth control, i would not suggest this to anyone.</td>\n",
       "      <td>although this type of birth control has more cons than pros, it did help with my cramps. it's also effective with the prevention of pregnancy. (along with use of condoms as well)heavy cycle, cramps, hot flashes, fatigue, long lasting cycles. it's only been 5 1/2 months, but i'm concidering changing to a different bc. this is my first time using any kind of bc, unfortunately due to the constant hassel, i'm not happy with the results.i hate this birth control, i would not suggest this to anyone.</td>\n",
       "      <td>4</td>\n",
       "      <td>1</td>\n",
       "      <td>498</td>\n",
       "      <td>1</td>\n",
       "      <td>[although, type, birth, control, con, pro, help, cramp, 's, also, effective, prevention, pregnancy, along, use, condom, well, heavy, cycle, cramp, hot, flash, fatigue, long, lasting, cycle, 's, 5, 1/2, month, 'm, concidering, changing, different, bc, first, time, using, kind, bc, unfortunately, due, constant, hassel, 'm, happy, results.i, hate, birth, control, would, suggest, anyone]</td>\n",
       "    </tr>\n",
       "  </tbody>\n",
       "</table>\n",
       "</div>"
      ],
      "text/plain": [
       "           urlDrugName  rating     effectiveness          sideEffects  \\\n",
       "2202  enalapril         4       highly effective  mild side effects     \n",
       "3117  ortho-tri-cyclen  1       highly effective  severe side effects   \n",
       "\n",
       "                                   condition  \\\n",
       "2202  management of congestive heart failure   \n",
       "3117  birth prevention                         \n",
       "\n",
       "                                                                                                                                                                                benefitsReview  \\\n",
       "2202  slowed the progression of left ventricular dysfunction into overt heart failure    alone or with other agents in the managment of hypertension    mangagement of congestive heart failur   \n",
       "3117  although this type of birth control has more cons than pros, it did help with my cramps. it's also effective with the prevention of pregnancy. (along with use of condoms as well)         \n",
       "\n",
       "                                                                                                                                                                                                                                                       sideEffectsReview  \\\n",
       "2202  cough, hypotension , proteinuria, impotence , renal failure , angina pectoris , tachycardia , eosinophilic pneumonitis, tastes disturbances , anusease anorecia , weakness fatigue insominca weakness                                                                \n",
       "3117  heavy cycle, cramps, hot flashes, fatigue, long lasting cycles. it's only been 5 1/2 months, but i'm concidering changing to a different bc. this is my first time using any kind of bc, unfortunately due to the constant hassel, i'm not happy with the results.   \n",
       "\n",
       "                                                         commentsReview  \\\n",
       "2202  monitor blood pressure , weight and asses for resolution of fluid   \n",
       "3117  i hate this birth control, i would not suggest this to anyone.      \n",
       "\n",
       "                                                                                                                                                                                                                                                                                                                                                                                                                                                                                                          combinedReview  \\\n",
       "2202  slowed the progression of left ventricular dysfunction into overt heart failure    alone or with other agents in the managment of hypertension    mangagement of congestive heart failurcough, hypotension , proteinuria, impotence , renal failure , angina pectoris , tachycardia , eosinophilic pneumonitis, tastes disturbances , anusease anorecia , weakness fatigue insominca weaknessmonitor blood pressure , weight and asses for resolution of fluid                                                       \n",
       "3117  although this type of birth control has more cons than pros, it did help with my cramps. it's also effective with the prevention of pregnancy. (along with use of condoms as well)heavy cycle, cramps, hot flashes, fatigue, long lasting cycles. it's only been 5 1/2 months, but i'm concidering changing to a different bc. this is my first time using any kind of bc, unfortunately due to the constant hassel, i'm not happy with the results.i hate this birth control, i would not suggest this to anyone.   \n",
       "\n",
       "      effectiveness_encoded  sideEffects_encoded  combinedReview_length  \\\n",
       "2202  4                      3                    446                     \n",
       "3117  4                      1                    498                     \n",
       "\n",
       "     rating_binned  \\\n",
       "2202  2              \n",
       "3117  1              \n",
       "\n",
       "                                                                                                                                                                                                                                                                                                                                                                                                     combinedReview_processed  \n",
       "2202  [slowed, progression, left, ventricular, dysfunction, overt, heart, failure, alone, agent, managment, hypertension, mangagement, congestive, heart, failurcough, hypotension, proteinuria, impotence, renal, failure, angina, pectoris, tachycardia, eosinophilic, pneumonitis, taste, disturbance, anusease, anorecia, weakness, fatigue, insominca, weaknessmonitor, blood, pressure, weight, ass, resolution, fluid]  \n",
       "3117  [although, type, birth, control, con, pro, help, cramp, 's, also, effective, prevention, pregnancy, along, use, condom, well, heavy, cycle, cramp, hot, flash, fatigue, long, lasting, cycle, 's, 5, 1/2, month, 'm, concidering, changing, different, bc, first, time, using, kind, bc, unfortunately, due, constant, hassel, 'm, happy, results.i, hate, birth, control, would, suggest, anyone]                       "
      ]
     },
     "execution_count": 22,
     "metadata": {},
     "output_type": "execute_result"
    }
   ],
   "source": [
    "# create new column\n",
    "training_df['combinedReview_processed'] = training_df['combinedReview']\n",
    "\n",
    "# tokenize\n",
    "training_df['combinedReview_processed'] = training_df['combinedReview_processed'].apply(word_tokenize)\n",
    "\n",
    "# remove stop words\n",
    "stopwords_en = set(stopwords.words('english'))\n",
    "training_df['combinedReview_processed'] = training_df['combinedReview_processed'].apply(lambda x: \n",
    "                                                                    [word for word in x if word not in stopwords_en])\n",
    "\n",
    "# remove punctuations\n",
    "punctuations = list(string.punctuation)\n",
    "training_df['combinedReview_processed'] = training_df['combinedReview_processed'].apply(lambda x: \n",
    "                                                                    [word for word in x if word not in punctuations])\n",
    "\n",
    "# lemmatization\n",
    "lemmatizer = WordNetLemmatizer()\n",
    "training_df['combinedReview_processed'] = training_df['combinedReview_processed'].apply(lambda x: \n",
    "                                                                                [lemmatizer.lemmatize(word) for word in x])\n",
    "\n",
    "# do the same for test data\n",
    "test_df['combinedReview_processed'] = test_df['combinedReview']\n",
    "test_df['combinedReview_processed'] = test_df['combinedReview_processed'].apply(word_tokenize)\n",
    "test_df['combinedReview_processed'] = test_df['combinedReview_processed'].apply(lambda x: \n",
    "                                                                                [word for word in x if word not in stopwords_en])\n",
    "test_df['combinedReview_processed'] = test_df['combinedReview_processed'].apply(lambda x: \n",
    "                                                                                [word for word in x if word not in punctuations])\n",
    "test_df['combinedReview_processed'] = test_df['combinedReview_processed'].apply(lambda x: \n",
    "                                                                                [lemmatizer.lemmatize(word) for word in x])\n",
    "\n",
    "training_df.head(2)"
   ]
  },
  {
   "cell_type": "markdown",
   "metadata": {},
   "source": [
    "### Multimodal Naive Bayes\n",
    "\n",
    "In a bag-of-word model, which is the model we will use, we treat words in no orders like pouring all of the words into a bag. This means that we consider the frequency of word appearance instead of word order. There are several way to count word frequency but we will use the most basic one: count vectorization. It has been shown that Multimodal Navie Bayes classifier works well within text classification and is also common amongst spam email detection. "
   ]
  },
  {
   "cell_type": "code",
   "execution_count": 23,
   "metadata": {},
   "outputs": [
    {
     "name": "stdout",
     "output_type": "stream",
     "text": [
      "             precision    recall  f1-score   support\n",
      "\n",
      "        bad       0.68      0.40      0.50       197\n",
      "     medium       0.52      0.18      0.27       290\n",
      "       good       0.62      0.93      0.75       549\n",
      "\n",
      "avg / total       0.61      0.62      0.57      1036\n",
      "\n",
      "\n",
      "##################################################\n",
      "\n"
     ]
    }
   ],
   "source": [
    "# join the lists in the column together\n",
    "training_df['combinedReview_processed'] = training_df['combinedReview_processed'].apply(lambda x: \" \".join(x))\n",
    "test_df['combinedReview_processed'] = test_df['combinedReview_processed'].apply(lambda x: \" \".join(x))\n",
    "\n",
    "# since the data is already cleaned, we do not need to do it here\n",
    "vectorizer = CountVectorizer(lowercase=False, preprocessor=None, tokenizer=None, stop_words=None, ngram_range=(1,3))\n",
    "X_train = training_df['combinedReview']\n",
    "X_test = test_df['combinedReview']\n",
    "y_train = training_df['rating_binned']\n",
    "y_test = test_df['rating_binned']\n",
    "\n",
    "# fit (learn vocaburary) and transform the training data\n",
    "X_train = vectorizer.fit_transform(X_train)\n",
    "\n",
    "# transform the test data\n",
    "X_test = vectorizer.transform(X_test)\n",
    "\n",
    "# make a classifier\n",
    "clf = MultinomialNB(alpha=.1)\n",
    "\n",
    "# train the classifier\n",
    "clf.fit(X_train, y_train)\n",
    "y_pred = clf.predict(X_test)\n",
    "\n",
    "target_names = ['bad', 'medium', 'good']\n",
    "print(classification_report(y_test, y_pred, target_names=target_names))\n",
    "print('\\n' + '##################################################' + '\\n')\n"
   ]
  },
  {
   "cell_type": "markdown",
   "metadata": {},
   "source": [
    "### Logistic Regression\n",
    "Lets use the feature vector extracted from the text with TfidfVectorizer, discussed in the 'Data Explonatory' section of this notebook. Then we can use e.g. logistic regression in a machine learning pipeline to predict the review score."
   ]
  },
  {
   "cell_type": "code",
   "execution_count": 24,
   "metadata": {},
   "outputs": [
    {
     "name": "stdout",
     "output_type": "stream",
     "text": [
      "Logistic Regression\n",
      "             precision    recall  f1-score   support\n",
      "\n",
      "          1       0.86      0.21      0.34       197\n",
      "          2       0.81      0.07      0.13       290\n",
      "          3       0.57      0.99      0.72       549\n",
      "\n",
      "avg / total       0.69      0.59      0.48      1036\n",
      "\n"
     ]
    }
   ],
   "source": [
    "# logistic regression\n",
    "X = training_df['combinedReview']\n",
    "Y = training_df['rating_binned']\n",
    "Y_test = test_df['rating_binned']\n",
    "X_test = test_df['combinedReview']\n",
    "\n",
    "pipeline = Pipeline([\n",
    "                    ('tfidf', TfidfVectorizer(stop_words='english', ngram_range=(1,2))),\n",
    "                    ('clf', linear_model.LogisticRegression(\n",
    "                                solver='lbfgs',\n",
    "                                multi_class='multinomial'))\n",
    "                ])\n",
    "model = pipeline.fit(X, Y)\n",
    "\n",
    "print(\"Logistic Regression\")\n",
    "print(classification_report(Y_test, model.predict(X_test)))\n"
   ]
  },
  {
   "cell_type": "markdown",
   "metadata": {},
   "source": [
    "### Deep Learning with TensorFlow/Keras\n",
    "Now its time to use a deep learning model based on the powerfull TensorFlow engine with Kera - a high-level API."
   ]
  },
  {
   "cell_type": "markdown",
   "metadata": {},
   "source": [
    "First step is to perform a one-hot encoding of the ratings;"
   ]
  },
  {
   "cell_type": "code",
   "execution_count": 25,
   "metadata": {},
   "outputs": [
    {
     "name": "stdout",
     "output_type": "stream",
     "text": [
      "Score Encoding: \n",
      " [[1 0 0]\n",
      " [0 0 1]\n",
      " [1 0 0]\n",
      " ...\n",
      " [0 0 1]\n",
      " [0 0 1]\n",
      " [1 0 0]]\n",
      "Raw comments: \n",
      " 3117    i hate this birth control, i would not suggest this to anyone.                                                                                                                                                                                                                                                                                                                                                                                                                                                                                                                                                                                                                                                                                                                                                                                                                                                                                                                                                                                                                                                                                                                                                                                      \n",
      "1146    i took 2 pills at the onset of my menstrual cramps and then every 8-12 hours took 1 pill as needed for about 3-4 days until cramps were over. if cramps are bad, make sure to take every 8 hours on the dot because the medication stops working suddenly and unfortunately takes about an hour to an hour and a half to kick back in.. if cramps are only moderate, taking every 12 hours is okay.                                                                                                                                                                                                                                                                                                                                                                                                                                                                                                                                                                                                                                                                                                                                                                                                                                                 \n",
      "                                                                                                                                                                                                       ...                                                                                                                                                                                                                                                                                                                                                                                                                                                                                                                                                                                                                                                                                                                                                                                                                                                                                                                                                                                                                                                  \n",
      "1591    i first started taking this at 3 times per day with .25 mg pills. i was advised not to take as needed with my panic attacks as that would reinforce the idea of taking a pill when it's needed and not help me work around my anxiety. this is totally true. at first i wished to only take them as needed but with my doctor's advice, he was right. this really does work when you take it daily at 3-5 times per day. this way your body adjusts to what's going on with the panic and makes no association with taking a pill to prevent or stop it, they just don't start in the first place. yes, i still do have minor attacks and worry episodes here and there but nothing at all like the many years before this. i wish that this extremely helpful medicine would not have such a bad name in media, news and pharmacies. this works wonders and there is no want or need to take more or become and addict. people and doctor's need to  understand more on how to treat someone with something that just works, rather than trying to give them ssri's which are what the drugs companies push, all for money reasons. and, the doctor's out there who decide that ssri's are the only option, they need to go back to medical school!\n",
      "1686    took one 10 mg pill nightly.                                                                                                                                                                                                                                                                                                                                                                                                                                                                                                                                                                                                                                                                                                                                                                                                                                                                                                                                                                                                                                                                                                                                                                                                                        \n",
      "Name: commentsReview, Length: 9, dtype: object\n"
     ]
    }
   ],
   "source": [
    "# Define one-hot encoding \"y\" for Training/Validation \n",
    "y = pd.get_dummies(training_df['rating_binned']).values\n",
    "y2 = pd.get_dummies(test_df['rating_binned']).values\n",
    "\n",
    "# Define for Tests\n",
    "y_test_predicted = pd.get_dummies(test_df['rating_binned']).values\n",
    "\n",
    "print ('Score Encoding: \\n', y[1:10])\n",
    "print ('Raw comments: \\n', training_df.commentsReview[1:10])"
   ]
  },
  {
   "cell_type": "code",
   "execution_count": 26,
   "metadata": {},
   "outputs": [
    {
     "data": {
      "text/html": [
       "<div>\n",
       "<style scoped>\n",
       "    .dataframe tbody tr th:only-of-type {\n",
       "        vertical-align: middle;\n",
       "    }\n",
       "\n",
       "    .dataframe tbody tr th {\n",
       "        vertical-align: top;\n",
       "    }\n",
       "\n",
       "    .dataframe thead th {\n",
       "        text-align: right;\n",
       "    }\n",
       "</style>\n",
       "<table border=\"1\" class=\"dataframe\">\n",
       "  <thead>\n",
       "    <tr style=\"text-align: right;\">\n",
       "      <th></th>\n",
       "      <th>0</th>\n",
       "      <th>1</th>\n",
       "      <th>2</th>\n",
       "      <th>3</th>\n",
       "    </tr>\n",
       "  </thead>\n",
       "  <tbody>\n",
       "    <tr>\n",
       "      <th>0</th>\n",
       "      <td>0</td>\n",
       "      <td>0</td>\n",
       "      <td>1</td>\n",
       "      <td>antibiotic may destroyed bacteria causing sinus infection may also caused virus hard say.some back pain nauseau.took antibiotic 14 day sinus infection gone 6th day</td>\n",
       "    </tr>\n",
       "    <tr>\n",
       "      <th>1</th>\n",
       "      <td>0</td>\n",
       "      <td>0</td>\n",
       "      <td>1</td>\n",
       "      <td>lamictal stabilized serious mood swing one minute clawing wall pure mania next curled fetal position bed contemplating suicdie longer whim mood neither around 'm lucky started pharmaceutical almost immediately diagnosed bipolar lamictal give amazing clarity go day honestly ass form real relationship lamitcal lifted fog guess could call 'm medicated realize cloudy thought process used 's wonderful feeling interestingly hardly dreamt beginning lamictal would dream mean dream sense able imagine picture scene asleep rem maybe every two month dream every night found closer take bedtime frequent intense dreams.drowsiness bit mental numbness take much feel sedated since able clearly honestly ass emotion thought determining much medication need tough found 400mg work perfectly 's high dose le feel medicine wearing prematurely like last 24hrs sleep sleep feel numb might call drowsiness 's sluggishness mind began treating bipolar disorder used write fair amount fiction sort flowed definitely artist 's temperament lamictal though inherent creativity fizzled n't come spilling 'm deep manic euphoria work art 's something requires discipline field requires creativity expect see change output.severe mood swing hypomania depression suicide ideation lamictal began 10mg tritrated 400mg month played around dosage finally arrive 400mg experimented taking different time evening found comfortable time sleep</td>\n",
       "    </tr>\n",
       "    <tr>\n",
       "      <th>...</th>\n",
       "      <td>...</td>\n",
       "      <td>...</td>\n",
       "      <td>...</td>\n",
       "      <td>...</td>\n",
       "    </tr>\n",
       "    <tr>\n",
       "      <th>8</th>\n",
       "      <td>0</td>\n",
       "      <td>0</td>\n",
       "      <td>1</td>\n",
       "      <td>immediately stopped panic attack really miraculous becoming frequent severe combination klonopin prozac experienced panic attack 10 year simply feel `` normal '' able go day without feeling extreme nausea dizziness panic attack manifested longer leave work early avoid restaurant supermarket worry getting suddenly `` sick '' reason.i experienced side effect tired feel medicated.i started klonopin prozac together first took klonopin 4 time day gradually able cut back twice day first thing morning dinnertime gradually cutting first noontime dosage bedtime one never talk-therapy continue take klonopin generic clonazapam day adverse reaction</td>\n",
       "    </tr>\n",
       "    <tr>\n",
       "      <th>9</th>\n",
       "      <td>1</td>\n",
       "      <td>0</td>\n",
       "      <td>0</td>\n",
       "      <td>presumed benefit help severe depression beginning benefit ie le suicidal apathetic morbid depressed effect short lived dose continually increased biggest benefit probably placebo feeling like getting help hopeful trusting treatment doctors.here go.the initial effect would dry mouth sleepiness able think straight function really dose would acclimatised would okay also cased hypo hypersomnia shakiness time large cognitive deficit reading comprehension eye would literally\\ physically play trick seeing word substituting others blind spot general confusion knowing going.nightmares nightsweatsfamily doctor initially prescribed wellbutin psychologist hospital suggested effexor dose would increased would adjust experience setback gabapentin added sleep trouble augment many thing also added subtracted avail psychiatrist felt dose could increased 375 mg. supervised care family physician side effect caused sent specialist specialist tentative diagnosis ranging borderline personality narcolepsy modifinil sleep apnea restless leg finally bi polar finally different psychiatrist said drug</td>\n",
       "    </tr>\n",
       "  </tbody>\n",
       "</table>\n",
       "<p>10 rows × 4 columns</p>\n",
       "</div>"
      ],
      "text/plain": [
       "    0  1  2  \\\n",
       "0   0  0  1   \n",
       "1   0  0  1   \n",
       ".. .. .. ..   \n",
       "8   0  0  1   \n",
       "9   1  0  0   \n",
       "\n",
       "                                                                                                                                                                                                                                                                                                                                                                                                                                                                                                                                                                                                                                                                                                                                                                                                                                                                                                                                                                                                                                                                                                                                                                                                                                                                                                                                                                                                                                                                   3  \n",
       "0   antibiotic may destroyed bacteria causing sinus infection may also caused virus hard say.some back pain nauseau.took antibiotic 14 day sinus infection gone 6th day                                                                                                                                                                                                                                                                                                                                                                                                                                                                                                                                                                                                                                                                                                                                                                                                                                                                                                                                                                                                                                                                                                                                                                                                                                                                                               \n",
       "1   lamictal stabilized serious mood swing one minute clawing wall pure mania next curled fetal position bed contemplating suicdie longer whim mood neither around 'm lucky started pharmaceutical almost immediately diagnosed bipolar lamictal give amazing clarity go day honestly ass form real relationship lamitcal lifted fog guess could call 'm medicated realize cloudy thought process used 's wonderful feeling interestingly hardly dreamt beginning lamictal would dream mean dream sense able imagine picture scene asleep rem maybe every two month dream every night found closer take bedtime frequent intense dreams.drowsiness bit mental numbness take much feel sedated since able clearly honestly ass emotion thought determining much medication need tough found 400mg work perfectly 's high dose le feel medicine wearing prematurely like last 24hrs sleep sleep feel numb might call drowsiness 's sluggishness mind began treating bipolar disorder used write fair amount fiction sort flowed definitely artist 's temperament lamictal though inherent creativity fizzled n't come spilling 'm deep manic euphoria work art 's something requires discipline field requires creativity expect see change output.severe mood swing hypomania depression suicide ideation lamictal began 10mg tritrated 400mg month played around dosage finally arrive 400mg experimented taking different time evening found comfortable time sleep  \n",
       "..                                                                                                                                                                                                                                                                                                                                                                                                                                                                                                                                                                                                                                                                                                                                                                                                                                                                                                                                                                                                                                                                                                                                                                                                                                                                                                                                                                                                                                                               ...  \n",
       "8   immediately stopped panic attack really miraculous becoming frequent severe combination klonopin prozac experienced panic attack 10 year simply feel `` normal '' able go day without feeling extreme nausea dizziness panic attack manifested longer leave work early avoid restaurant supermarket worry getting suddenly `` sick '' reason.i experienced side effect tired feel medicated.i started klonopin prozac together first took klonopin 4 time day gradually able cut back twice day first thing morning dinnertime gradually cutting first noontime dosage bedtime one never talk-therapy continue take klonopin generic clonazapam day adverse reaction                                                                                                                                                                                                                                                                                                                                                                                                                                                                                                                                                                                                                                                                                                                                                                                              \n",
       "9   presumed benefit help severe depression beginning benefit ie le suicidal apathetic morbid depressed effect short lived dose continually increased biggest benefit probably placebo feeling like getting help hopeful trusting treatment doctors.here go.the initial effect would dry mouth sleepiness able think straight function really dose would acclimatised would okay also cased hypo hypersomnia shakiness time large cognitive deficit reading comprehension eye would literally\\ physically play trick seeing word substituting others blind spot general confusion knowing going.nightmares nightsweatsfamily doctor initially prescribed wellbutin psychologist hospital suggested effexor dose would increased would adjust experience setback gabapentin added sleep trouble augment many thing also added subtracted avail psychiatrist felt dose could increased 375 mg. supervised care family physician side effect caused sent specialist specialist tentative diagnosis ranging borderline personality narcolepsy modifinil sleep apnea restless leg finally bi polar finally different psychiatrist said drug                                                                                                                                                                                                                                                                                                                                \n",
       "\n",
       "[10 rows x 4 columns]"
      ]
     },
     "execution_count": 26,
     "metadata": {},
     "output_type": "execute_result"
    }
   ],
   "source": [
    "train_df_processed = pd.DataFrame(y)\n",
    "train_df_processed[3] = list(training_df['combinedReview_processed'])\n",
    "train_df_processed.head(10)\n",
    "test_df_processed = pd.DataFrame(y2)\n",
    "test_df_processed[3] = list(test_df['combinedReview_processed'])\n",
    "test_df_processed.head(10)"
   ]
  },
  {
   "cell_type": "code",
   "execution_count": 27,
   "metadata": {},
   "outputs": [],
   "source": [
    "post_processed_train_comments = train_df_processed[3].tolist()\n",
    "post_processed_y = train_df_processed[[0, 1, 2]].values\n",
    "post_processed_test_comments = test_df_processed[3].tolist()\n",
    "post_processed_y2 = test_df_processed[[0, 1, 2]].values"
   ]
  },
  {
   "cell_type": "code",
   "execution_count": 28,
   "metadata": {},
   "outputs": [],
   "source": [
    "# Tokenize the data\n",
    "MAX_NB_WORDS = 3000\n",
    "tokenizer = Tokenizer(num_words = MAX_NB_WORDS, \n",
    "                      filters='!\"#$%&()*+,-./:;<=>?@[\\]^_`{|}~',\n",
    "                      lower=True, split=' ', char_level=False, \n",
    "                      oov_token=None, document_count=0)\n",
    "\n",
    "tokenizer.fit_on_texts(post_processed_train_comments + post_processed_test_comments)"
   ]
  },
  {
   "cell_type": "code",
   "execution_count": 29,
   "metadata": {},
   "outputs": [
    {
     "name": "stdout",
     "output_type": "stream",
     "text": [
      "found 16430 tokens in text.\n",
      "(3095, 100) <-- shape of train_data ready for val/train split.\n",
      "(1036, 100) <-- shape of final_test_data ready for fedding to network.\n",
      "16430 <-- Length of Word Index\n"
     ]
    }
   ],
   "source": [
    "MAX_SEQUENCE_LENGTH = 100\n",
    "\n",
    "# Convert to sequences\n",
    "train_sequences = tokenizer.texts_to_sequences(post_processed_train_comments)\n",
    "test_sequences = tokenizer.texts_to_sequences(post_processed_test_comments)\n",
    "word_index = tokenizer.word_index\n",
    "print('found %s tokens in text.' %(len(word_index)))\n",
    "\n",
    "# Ensure all sequences have the same length (=3000). \n",
    "train_data = pad_sequences(train_sequences, maxlen = MAX_SEQUENCE_LENGTH)\n",
    "final_test_data = pad_sequences(test_sequences, maxlen = MAX_SEQUENCE_LENGTH)\n",
    "\n",
    "# Print shapes of data. \n",
    "print(train_data.shape, '<-- shape of train_data ready for val/train split.')\n",
    "print(final_test_data.shape, '<-- shape of final_test_data ready for fedding to network.')\n",
    "print(len(word_index), '<-- Length of Word Index')"
   ]
  },
  {
   "cell_type": "markdown",
   "metadata": {},
   "source": [
    "Now the dataset is split into a training and test data set for validation purposes."
   ]
  },
  {
   "cell_type": "code",
   "execution_count": 30,
   "metadata": {},
   "outputs": [
    {
     "name": "stdout",
     "output_type": "stream",
     "text": [
      "train data shape: (2476, 100)\n",
      "validation data shape: (619, 100)\n"
     ]
    }
   ],
   "source": [
    "from sklearn.model_selection import train_test_split\n",
    "\n",
    "X_train, X_val, Y_train, Y_val = train_test_split(train_data, post_processed_y,\n",
    "                                                  test_size = 0.2,  stratify= post_processed_y, \n",
    "                                                  random_state = 2019)\n",
    "X_test = final_test_data\n",
    "Y_test = y_test_predicted\n",
    "\n",
    "print('train data shape:', X_train.shape)\n",
    "print('validation data shape:', X_val.shape)"
   ]
  },
  {
   "cell_type": "markdown",
   "metadata": {},
   "source": [
    "Values for the embedding value and sequence length are defined. Then the Keras model is built by adding layers to a neural network."
   ]
  },
  {
   "cell_type": "code",
   "execution_count": 31,
   "metadata": {},
   "outputs": [
    {
     "name": "stdout",
     "output_type": "stream",
     "text": [
      "_________________________________________________________________\n",
      "Layer (type)                 Output Shape              Param #   \n",
      "=================================================================\n",
      "embedding_1 (Embedding)      (None, 100, 160)          480000    \n",
      "_________________________________________________________________\n",
      "dropout_1 (Dropout)          (None, 100, 160)          0         \n",
      "_________________________________________________________________\n",
      "lstm_1 (LSTM)                (None, 100)               104400    \n",
      "_________________________________________________________________\n",
      "dropout_2 (Dropout)          (None, 100)               0         \n",
      "_________________________________________________________________\n",
      "dense_1 (Dense)              (None, 3)                 303       \n",
      "=================================================================\n",
      "Total params: 584,703\n",
      "Trainable params: 584,703\n",
      "Non-trainable params: 0\n",
      "_________________________________________________________________\n"
     ]
    }
   ],
   "source": [
    "EMBEDDING_DIM = 160\n",
    "nb_words  = min(MAX_NB_WORDS, len(word_index))\n",
    "lstm_out = MAX_SEQUENCE_LENGTH\n",
    "\n",
    "# The keras model is constructed\n",
    "model = Sequential()\n",
    "model.add(Embedding(nb_words, EMBEDDING_DIM, input_length=lstm_out))\n",
    "model.add(Dropout(0.2))\n",
    "model.add(LSTM(100))\n",
    "model.add(Dropout(0.2))\n",
    "model.add(Dense(3, activation = 'softmax'))\n",
    "\n",
    "# compiled with a loss function and an optimizer, with a metric called 'accuracy'\n",
    "model.compile(loss='binary_crossentropy',optimizer='adam', metrics=['acc'])\n",
    "model.summary()"
   ]
  },
  {
   "cell_type": "code",
   "execution_count": 32,
   "metadata": {},
   "outputs": [],
   "source": [
    "# Early stopping is applied to the Model Checkpoints of the Keras model to get an optimal model train vs validation accuracy\n",
    "early_stopping = EarlyStopping(patience = 4)\n",
    "model_checkpoint = ModelCheckpoint('model_best.h5', save_best_only = True)\n",
    "\n",
    "batch = 32\n",
    "# Run LSTM Model\n",
    "epoch = 100\n",
    "LSTM_model = model.fit(X_train, Y_train, batch_size=batch, epochs=epoch,\n",
    "                       validation_data=(X_val, Y_val), shuffle = True, \n",
    "                       callbacks = [early_stopping, model_checkpoint], verbose = 0)\n",
    "best_score = min(LSTM_model.history['val_loss'])"
   ]
  },
  {
   "cell_type": "code",
   "execution_count": 33,
   "metadata": {},
   "outputs": [
    {
     "data": {
      "image/png": "[encoded data removed]",
      "text/plain": [
       "<matplotlib.figure.Figure at 0x1a415ec5c0>"
      ]
     },
     "metadata": {},
     "output_type": "display_data"
    }
   ],
   "source": [
    "# plotting og model train vs validation accuract\n",
    "plt.plot(LSTM_model.history['acc'])\n",
    "plt.plot(LSTM_model.history['val_acc'])\n",
    "plt.title('model train vs validation accuracy')\n",
    "plt.ylabel('acc')\n",
    "plt.xlabel('epoch')\n",
    "plt.legend(['train', 'validation'], loc='upper right')\n",
    "plt.show()"
   ]
  },
  {
   "cell_type": "code",
   "execution_count": 34,
   "metadata": {},
   "outputs": [
    {
     "name": "stdout",
     "output_type": "stream",
     "text": [
      "1036/1036 [==============================] - 0s 392us/step\n",
      "Test set\n",
      "  Loss: 1.123\n",
      "  Accuracy: 0.701\n"
     ]
    }
   ],
   "source": [
    "accr = model.evaluate(X_test, Y_test, batch_size = 256)\n",
    "print('Test set\\n  Loss: {:0.3f}\\n  Accuracy: {:0.3f}'.format(accr[0],accr[1]))"
   ]
  },
  {
   "cell_type": "markdown",
   "metadata": {},
   "source": [
    "Training curve above looks very stable for validation test set whereas it keeps increasing for training set. It looks like we are overfitting to the training set - but accuracy is no matter around 70 %."
   ]
  },
  {
   "cell_type": "markdown",
   "metadata": {},
   "source": [
    "## Score Predictor based on Reviews\n",
    "\n",
    "Tried for a few test examples"
   ]
  },
  {
   "cell_type": "code",
   "execution_count": 35,
   "metadata": {},
   "outputs": [
    {
     "name": "stdout",
     "output_type": "stream",
     "text": [
      "Prediction for Sentence 'Worst medicine I have ever taken' is: \n",
      " Good: 0.07709410786628723 \n",
      " Medium: 0.010143773630261421 \n",
      " Bad: 0.9127621054649353 \n",
      " \n",
      "\n",
      "Prediction for Sentence 'I really love this medicine' is: \n",
      " Good: 0.9845934510231018 \n",
      " Medium: 0.007018466014415026 \n",
      " Bad: 0.008388112299144268 \n",
      " \n",
      "\n",
      "Prediction for Sentence 'This completely cured me from my desease' is: \n",
      " Good: 0.9033885598182678 \n",
      " Medium: 0.036826152354478836 \n",
      " Bad: 0.05978522449731827 \n",
      " \n",
      "\n",
      "Prediction for Sentence 'I hate to take this medicine' is: \n",
      " Good: 0.3706110715866089 \n",
      " Medium: 0.0686618909239769 \n",
      " Bad: 0.560727059841156 \n",
      " \n",
      "\n"
     ]
    }
   ],
   "source": [
    "def Predictor(string):\n",
    "    pred = pd.DataFrame()\n",
    "    pred['review'] = [string]\n",
    "    pred['review'] = pred['review']\n",
    "    pred['review'] = pred['review'].apply(word_tokenize)\n",
    "    pred['review'] = pred['review'].apply(lambda x: [word for word in x if word not in stopwords_en])\n",
    "    pred['review'] = pred['review'].apply(lambda x: [word for word in x if word not in punctuations])\n",
    "    pred['review'] = pred['review'].apply(lambda x: [lemmatizer.lemmatize(word) for word in x])\n",
    "    pred['review'] = pred['review'].apply(lambda x: \" \".join(x))\n",
    "    post_processed_train_comments = list(pred['review'])\n",
    "    train_sequences = tokenizer.texts_to_sequences(post_processed_train_comments)\n",
    "    strvec = pad_sequences(train_sequences, maxlen = MAX_SEQUENCE_LENGTH)\n",
    "    a = model.predict(strvec)\n",
    "    print(\"Prediction for Sentence '{}' is: \\n Good: {} \\n Medium: {} \\n Bad: {} \\n \\n\".format(string, a[0][2],  a[0][1],  a[0][0]))\n",
    "    \n",
    "Predictor(\"Worst medicine I have ever taken\")\n",
    "Predictor(\"I really love this medicine\")\n",
    "Predictor(\"This completely cured me from my desease\")\n",
    "Predictor(\"I hate to take this medicine\")"
   ]
  },
  {
   "cell_type": "markdown",
   "metadata": {},
   "source": [
    "## Summary\n",
    "\n",
    "We notice that the rating is evaluated from 1 to 10 and the scale is subjected to personal bias and noise. There could be no reason for a person to give a 8 instead of 9 or 10 if the drug works well. Consequently, the 'rating' column is grouped into 3 simple bins: bad, medium, and good results. This helps us a lot in categorization and improves the performance.\n",
    "\n",
    "The models can also be improved by tuning the parameters by utilizing grid search to find the optimal points. However, without tuning, the performance for decision tree is at around 0.80 based on the one-hot encoding of effectiveness and sideeffect scores which is quite good and a baseline for the review score predicter. Count vectorization and multimodal naive Bayes of the actually text gives us a review score predictor with a f1-score of 0.40 and 0.57 respectively. A model based on Deep Learning and TensorFlow/Keras gave an accuracy of 80 %. We are starting to get nearer to something useful.\n",
    "\n",
    "Next step might to look at performance for a 2-step score predictor, instead of the 3-step predictor investigated in this project. That also depends on the stakeholders"
   ]
  },
  {
   "cell_type": "markdown",
   "metadata": {},
   "source": [
    "## What can we improve?\n",
    "\n",
    "1. Use pipeline in sklearn to turn all the steps into streamlined DAG process\n",
    "2. Tune the parameters by grid search\n",
    "3. Use Random forests or boosting techniques to increase decision tree performance\n",
    "4. Clean up the data more by removing numbers\n",
    "5. Use other word counting techniques such as TF-IDF\n",
    "6. Fine tune the parameters such as n-gram, etc."
   ]
  }
 ],
 "metadata": {
  "kernelspec": {
   "display_name": "Python 3",
   "language": "python",
   "name": "python3"
  },
  "language_info": {
   "codemirror_mode": {
    "name": "ipython",
    "version": 3
   },
   "file_extension": ".py",
   "mimetype": "text/x-python",
   "name": "python",
   "nbconvert_exporter": "python",
   "pygments_lexer": "ipython3",
   "version": "3.6.5"
  }
 },
 "nbformat": 4,
 "nbformat_minor": 2
}
